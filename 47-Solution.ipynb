{
 "cells": [
  {
   "cell_type": "markdown",
   "metadata": {},
   "source": [
    "# The first two consecutive numbers to have two distinct prime factors are:\n",
    "\n",
    "- 14 = 2 × 7\n",
    "- 15 = 3 × 5"
   ]
  },
  {
   "cell_type": "markdown",
   "metadata": {},
   "source": [
    "# The first three consecutive numbers to have three distinct prime factors are:\n",
    "\n",
    "- 644 = 2² × 7 × 23\n",
    "- 645 = 3 × 5 × 43\n",
    "- 646 = 2 × 17 × 19."
   ]
  },
  {
   "cell_type": "markdown",
   "metadata": {},
   "source": [
    "# Find the first four consecutive integers to have four distinct prime factors each. What is the first of these numbers?"
   ]
  },
  {
   "cell_type": "markdown",
   "metadata": {},
   "source": [
    "____\n"
   ]
  },
  {
   "cell_type": "code",
   "execution_count": 1,
   "metadata": {},
   "outputs": [],
   "source": [
    "def prime_generator(n):\n",
    "    list_primes = [2,3]\n",
    "    i = 3\n",
    "    while len(list_primes)<n:\n",
    "        i+=1\n",
    "        if len([p for p in list_primes if i % p == 0])==0:\n",
    "            list_primes.append(i)\n",
    "    return list_primes"
   ]
  },
  {
   "cell_type": "code",
   "execution_count": 2,
   "metadata": {},
   "outputs": [],
   "source": [
    "list_primes_1000 = prime_generator(1000)"
   ]
  },
  {
   "cell_type": "code",
   "execution_count": 3,
   "metadata": {},
   "outputs": [],
   "source": [
    "def prime_divisors(x):\n",
    "    list_prime_divisors = []\n",
    "    for p in list_primes_1000:\n",
    "        if x%p==0:\n",
    "            list_prime_divisors.append(p)\n",
    "            while x%p==0:\n",
    "                x = x/p\n",
    "    return list_prime_divisors"
   ]
  },
  {
   "cell_type": "code",
   "execution_count": 23,
   "metadata": {},
   "outputs": [
    {
     "name": "stdout",
     "output_type": "stream",
     "text": [
      "134043 134044 134045 134046\n"
     ]
    }
   ],
   "source": [
    "i = 10000\n",
    "j = i+1\n",
    "k = j+1\n",
    "l = k+1\n",
    "\n",
    "list_i = prime_divisors(i)\n",
    "list_j = prime_divisors(j)\n",
    "list_k = prime_divisors(k)\n",
    "list_l = prime_divisors(l)\n",
    "\n",
    "found = False\n",
    "\n",
    "while not found:\n",
    "    l+=1\n",
    "    list_i = list(list_j)\n",
    "    list_j = list(list_k)\n",
    "    list_k = list(list_l)\n",
    "    list_l = prime_divisors(l)\n",
    "    \n",
    "    if (len(list_i)==4)&(len(list_j)==4)&(len(list_k)==4)&(len(list_l)==4):\n",
    "        found = True\n",
    "print(l-3, l-2, l-1, l)"
   ]
  },
  {
   "cell_type": "markdown",
   "metadata": {},
   "source": [
    "# Answer: 134,043"
   ]
  }
 ],
 "metadata": {
  "kernelspec": {
   "display_name": "Python 3",
   "language": "python",
   "name": "python3"
  },
  "language_info": {
   "codemirror_mode": {
    "name": "ipython",
    "version": 3
   },
   "file_extension": ".py",
   "mimetype": "text/x-python",
   "name": "python",
   "nbconvert_exporter": "python",
   "pygments_lexer": "ipython3",
   "version": "3.6.4"
  }
 },
 "nbformat": 4,
 "nbformat_minor": 2
}
