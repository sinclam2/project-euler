{
 "cells": [
  {
   "cell_type": "markdown",
   "metadata": {},
   "source": [
    "# The number, 1406357289, is a 0 to 9 pandigital number because it is made up of each of the digits 0 to 9 in some order, but it also has a rather interesting sub-string divisibility property."
   ]
  },
  {
   "cell_type": "markdown",
   "metadata": {},
   "source": [
    "# Let $d_{1}$ be the 1st digit, $d_{2}$ be the 2nd digit, and so on. In this way, we note the following:\n",
    "\n",
    "- $d_{2}d_{3}d_{4}=406$ is divisible by 2\n",
    "- $d_{3}d_{4}d_{5}=063$ is divisible by 3\n",
    "- $d_{4}d_{5}d_{6}=635$ is divisible by 5\n",
    "- $d_{5}d_{6}d_{7}=357$ is divisible by 7\n",
    "- $d_{6}d_{7}d_{8}=572$ is divisible by 11\n",
    "- $d_{7}d_{8}d_{9}=728$ is divisible by 13\n",
    "- $d_{8}d_{9}d_{10}=289$ is divisible by 17\n",
    "\n",
    "# Find the sum of all 0 to 9 pandigital numbers with this property.\n",
    "\n",
    "____"
   ]
  },
  {
   "cell_type": "code",
   "execution_count": 1,
   "metadata": {},
   "outputs": [],
   "source": [
    "from itertools import permutations"
   ]
  },
  {
   "cell_type": "code",
   "execution_count": 20,
   "metadata": {},
   "outputs": [],
   "source": [
    "list_pandigitals = []\n",
    "\n",
    "#d1 can't be a zero\n",
    "for d1 in [str(x) for x in range(1,10)]:\n",
    "    #d4 must be 0, 2, 4, 6, or 8 for d3*d4*d5 to be even\n",
    "    for d4 in [x for x in ['2','4','6','8','0'] if x != d1]:\n",
    "        #d6 must be a 5 or a 0 for d4*d5*d6 to be divisible by 5\n",
    "        for d6 in [str(x) for x in range(10) if (str(x)!=d1)&(str(x)!=d4)]:\n",
    "            digits = '1234567890'\n",
    "            remaining_digits = digits.replace(d1,'').replace(d4,'').replace(d6,'')\n",
    "            for number in permutations(remaining_digits):\n",
    "                d2, d3, d5, d7, d8, d9, d10 = number\n",
    "                pandigital = ''.join([d1, d2, d3, d4, d5, d6, d7, d8, d9, d10])\n",
    "                list_pandigitals.append(pandigital)\n",
    "\n",
    "list_pandigitals = sorted(list_pandigitals)"
   ]
  },
  {
   "cell_type": "code",
   "execution_count": 28,
   "metadata": {},
   "outputs": [],
   "source": [
    "def checker(pandigital):\n",
    "    a = pandigital[1:4]\n",
    "    if int(a)%2!=0:\n",
    "        return False\n",
    "    \n",
    "    b = pandigital[2:5]\n",
    "    if int(b)%3!=0:\n",
    "        return False\n",
    "    \n",
    "    c = pandigital[3:6]\n",
    "    if int(c)%5!=0:\n",
    "        return False\n",
    "    \n",
    "    d = pandigital[4:7]\n",
    "    if int(d)%7!=0:\n",
    "        return False\n",
    "    \n",
    "    e = pandigital[5:8]\n",
    "    if int(e)%11!=0:\n",
    "        return False\n",
    "    \n",
    "    f = pandigital[6:9]\n",
    "    if int(f)%13!=0:\n",
    "        return False\n",
    "    \n",
    "    g = pandigital[7:10]\n",
    "    if int(g)%17!=0:\n",
    "        return False\n",
    "    \n",
    "    return True"
   ]
  },
  {
   "cell_type": "code",
   "execution_count": 30,
   "metadata": {},
   "outputs": [
    {
     "data": {
      "text/plain": [
       "16695334890"
      ]
     },
     "execution_count": 30,
     "metadata": {},
     "output_type": "execute_result"
    }
   ],
   "source": [
    "sum([int(x) for x in list_pandigitals if checker(x)])"
   ]
  },
  {
   "cell_type": "markdown",
   "metadata": {},
   "source": [
    "# Answer: 16695334890"
   ]
  }
 ],
 "metadata": {
  "kernelspec": {
   "display_name": "Python 3",
   "language": "python",
   "name": "python3"
  },
  "language_info": {
   "codemirror_mode": {
    "name": "ipython",
    "version": 3
   },
   "file_extension": ".py",
   "mimetype": "text/x-python",
   "name": "python",
   "nbconvert_exporter": "python",
   "pygments_lexer": "ipython3",
   "version": "3.6.4"
  }
 },
 "nbformat": 4,
 "nbformat_minor": 2
}
