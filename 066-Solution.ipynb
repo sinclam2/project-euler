{
 "cells": [
  {
   "cell_type": "markdown",
   "metadata": {},
   "source": [
    "# Consider quadratic Diophantine equations of the form:"
   ]
  },
  {
   "cell_type": "markdown",
   "metadata": {},
   "source": [
    "$$\n",
    "x^{2}-Dy^{2}=1\n",
    "$$"
   ]
  },
  {
   "cell_type": "markdown",
   "metadata": {},
   "source": [
    "# For example, when D=13, the minimal solution in $x$ is $649^{2} – 13×180^{2} = 1$"
   ]
  },
  {
   "cell_type": "markdown",
   "metadata": {},
   "source": [
    "# It can be assumed that there are no solutions in positive integers when D is square.\n",
    "\n",
    "# By finding minimal solutions in x for D = {2, 3, 5, 6, 7}, we obtain the following:"
   ]
  },
  {
   "cell_type": "markdown",
   "metadata": {},
   "source": [
    "![](images/66.PNG)"
   ]
  },
  {
   "cell_type": "markdown",
   "metadata": {},
   "source": [
    "# Hence, by considering minimal solutions in x for D ≤ 7, the largest x is obtained when D=5."
   ]
  },
  {
   "cell_type": "markdown",
   "metadata": {},
   "source": [
    "# Find the value of D ≤ 1000 in minimal solutions of x for which the largest value of x is obtained."
   ]
  },
  {
   "cell_type": "markdown",
   "metadata": {},
   "source": [
    "______"
   ]
  },
  {
   "cell_type": "markdown",
   "metadata": {},
   "source": [
    "# According to wikipedia, this is called [Pell's Equation](https://en.wikipedia.org/wiki/Pell%27s_equation#Example)\n",
    "\n",
    "# We can alter the function from [Problem 64](64-Solution.ipynb) to solve for the convergents"
   ]
  },
  {
   "cell_type": "code",
   "execution_count": 61,
   "metadata": {},
   "outputs": [],
   "source": [
    "def find_x(D):\n",
    "    m = 0\n",
    "    d = 1\n",
    "    a_0 = 0\n",
    "    while (a_0+1)**2<D:\n",
    "        a_0 += 1\n",
    "    \n",
    "    a = a_0\n",
    "    \n",
    "    h, k = a_0, 1\n",
    "    h_1, k_1 = 1,0\n",
    "    \n",
    "    while h**2 - D*(k**2) != 1:\n",
    "        m = d*a-m\n",
    "        d = (D - m**2)/d\n",
    "        a = int((a_0+m)/d)\n",
    "        \n",
    "        h, h_1 = a*h+h_1, h\n",
    "        k, k_1 = a*k + k_1, k\n",
    "    \n",
    "    return h"
   ]
  },
  {
   "cell_type": "code",
   "execution_count": 77,
   "metadata": {},
   "outputs": [
    {
     "data": {
      "text/plain": [
       "661"
      ]
     },
     "execution_count": 77,
     "metadata": {},
     "output_type": "execute_result"
    }
   ],
   "source": [
    "max_x = 0\n",
    "max_D = 0\n",
    "\n",
    "for D in range(2,1001):\n",
    "    x = find_x(D)\n",
    "    if x > max_x:\n",
    "        max_x = x\n",
    "        max_D = D\n",
    "max_D"
   ]
  },
  {
   "cell_type": "markdown",
   "metadata": {},
   "source": [
    "# Answer: 661"
   ]
  }
 ],
 "metadata": {
  "kernelspec": {
   "display_name": "Python 3",
   "language": "python",
   "name": "python3"
  },
  "language_info": {
   "codemirror_mode": {
    "name": "ipython",
    "version": 3
   },
   "file_extension": ".py",
   "mimetype": "text/x-python",
   "name": "python",
   "nbconvert_exporter": "python",
   "pygments_lexer": "ipython3",
   "version": "3.6.5"
  }
 },
 "nbformat": 4,
 "nbformat_minor": 2
}
