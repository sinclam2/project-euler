{
 "cells": [
  {
   "cell_type": "markdown",
   "metadata": {},
   "source": [
    "# It is possible to show that the square root of two can be expressed as an infinite continued fraction.\n",
    "\n",
    "# √ 2 = 1 + 1/(2 + 1/(2 + 1/(2 + ... ))) = 1.414213...\n",
    "\n",
    "# By expanding this for the first four iterations, we get:\n",
    "\n",
    "# 1 + 1/2 = 3/2 = 1.5\n",
    "# 1 + 1/(2 + 1/2) = 7/5 = 1.4\n",
    "# 1 + 1/(2 + 1/(2 + 1/2)) = 17/12 = 1.41666...\n",
    "# 1 + 1/(2 + 1/(2 + 1/(2 + 1/2))) = 41/29 = 1.41379...\n",
    "\n",
    "# The next three expansions are 99/70, 239/169, and 577/408, but the eighth expansion, 1393/985, is the first example where the number of digits in the numerator exceeds the number of digits in the denominator.\n",
    "\n",
    "# In the first one-thousand expansions, how many fractions contain a numerator with more digits than denominator?"
   ]
  },
  {
   "cell_type": "markdown",
   "metadata": {},
   "source": [
    "_____"
   ]
  },
  {
   "cell_type": "code",
   "execution_count": 15,
   "metadata": {},
   "outputs": [],
   "source": [
    "from fractions import Fraction"
   ]
  },
  {
   "cell_type": "code",
   "execution_count": 26,
   "metadata": {},
   "outputs": [],
   "source": [
    "def f(n):\n",
    "    if n == 1:\n",
    "        return 1 + Fraction(1,2)\n",
    "    x = 2\n",
    "    for i in range(n-1):\n",
    "        x = 2 + Fraction(1,x)\n",
    "    return 1 + Fraction(1,x)"
   ]
  },
  {
   "cell_type": "code",
   "execution_count": 39,
   "metadata": {},
   "outputs": [],
   "source": [
    "count = 0\n",
    "\n",
    "for n in range(1,1001):\n",
    "    fraction = f(n)\n",
    "    n, d = fraction.numerator, fraction.denominator\n",
    "    if len(str(n))>len(str(d)):\n",
    "        count += 1"
   ]
  },
  {
   "cell_type": "code",
   "execution_count": 40,
   "metadata": {},
   "outputs": [
    {
     "data": {
      "text/plain": [
       "153"
      ]
     },
     "execution_count": 40,
     "metadata": {},
     "output_type": "execute_result"
    }
   ],
   "source": [
    "count"
   ]
  },
  {
   "cell_type": "markdown",
   "metadata": {},
   "source": [
    "# Answer: 153"
   ]
  }
 ],
 "metadata": {
  "kernelspec": {
   "display_name": "Python 3",
   "language": "python",
   "name": "python3"
  },
  "language_info": {
   "codemirror_mode": {
    "name": "ipython",
    "version": 3
   },
   "file_extension": ".py",
   "mimetype": "text/x-python",
   "name": "python",
   "nbconvert_exporter": "python",
   "pygments_lexer": "ipython3",
   "version": "3.6.5"
  }
 },
 "nbformat": 4,
 "nbformat_minor": 2
}
