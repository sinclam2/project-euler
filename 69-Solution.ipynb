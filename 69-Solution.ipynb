{
 "cells": [
  {
   "cell_type": "markdown",
   "metadata": {},
   "source": [
    "# Euler's Totient function, φ(n) [sometimes called the phi function], is used to determine the number of numbers less than n which are relatively prime to n.\n",
    "\n",
    "# For example, as 1, 2, 4, 5, 7, and 8, are all less than nine and relatively prime to nine, φ(9)=6.\n",
    "\n",
    "![](images/69.PNG)"
   ]
  },
  {
   "cell_type": "markdown",
   "metadata": {},
   "source": [
    "# It can be seen that n=6 produces a maximum n/φ(n) for n ≤ 10.\n",
    "\n",
    "# Find the value of n ≤ 1,000,000 for which n/φ(n) is a maximum."
   ]
  },
  {
   "cell_type": "markdown",
   "metadata": {},
   "source": [
    "_____\n",
    "\n",
    "## We can see right away that the more relatively prime values, the lower the ratio. In other words, to maximize the ratio, we want as big of a list of relatively prime values as possible\n",
    "\n",
    "## Two numbers are relatively prime if they don't share a common prime divisor\n",
    "\n",
    "## Therefore, we need to find the number below 1,000,000 that is divisible by the highest number of prime values"
   ]
  },
  {
   "cell_type": "markdown",
   "metadata": {},
   "source": [
    "- We probably will only need the first 100 primes since any value divisible only by high primes won't have a good ratio"
   ]
  },
  {
   "cell_type": "code",
   "execution_count": 1,
   "metadata": {},
   "outputs": [],
   "source": [
    "def prime_generator(n):\n",
    "    list_primes = [2,3]\n",
    "    i = 3\n",
    "    while len(list_primes)<n:\n",
    "        i+=1\n",
    "        if len([p for p in list_primes if i % p == 0])==0:\n",
    "            list_primes.append(i)\n",
    "    return list_primes"
   ]
  },
  {
   "cell_type": "code",
   "execution_count": 2,
   "metadata": {},
   "outputs": [],
   "source": [
    "list_primes_100 = prime_generator(100)"
   ]
  },
  {
   "cell_type": "markdown",
   "metadata": {},
   "source": [
    "# If we start with the set of numbers from 2 to 1,000,000 and remove the values not divisible by each prime, we'll eventually get to the number that is divisible by the most primes"
   ]
  },
  {
   "cell_type": "code",
   "execution_count": 3,
   "metadata": {},
   "outputs": [],
   "source": [
    "set_primes = set(range(2,1000001))\n",
    "\n",
    "for p in list_primes_100:\n",
    "    set_primes = set([x for x in range(2,1000001) if x%p==0])&set_primes\n",
    "    if len(set_primes)<=1:\n",
    "        break"
   ]
  },
  {
   "cell_type": "code",
   "execution_count": 4,
   "metadata": {},
   "outputs": [
    {
     "data": {
      "text/plain": [
       "{510510}"
      ]
     },
     "execution_count": 4,
     "metadata": {},
     "output_type": "execute_result"
    }
   ],
   "source": [
    "set_primes"
   ]
  },
  {
   "cell_type": "markdown",
   "metadata": {},
   "source": [
    "# Answer: 510,510"
   ]
  }
 ],
 "metadata": {
  "kernelspec": {
   "display_name": "Python 3",
   "language": "python",
   "name": "python3"
  },
  "language_info": {
   "codemirror_mode": {
    "name": "ipython",
    "version": 3
   },
   "file_extension": ".py",
   "mimetype": "text/x-python",
   "name": "python",
   "nbconvert_exporter": "python",
   "pygments_lexer": "ipython3",
   "version": "3.6.5"
  }
 },
 "nbformat": 4,
 "nbformat_minor": 2
}
