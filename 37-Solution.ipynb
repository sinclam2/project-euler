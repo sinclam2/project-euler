{
 "cells": [
  {
   "cell_type": "markdown",
   "metadata": {},
   "source": [
    "# The number 3797 has an interesting property. Being prime itself, it is possible to continuously remove digits from left to right, and remain prime at each stage: 3797, 797, 97, and 7. Similarly we can work from right to left: 3797, 379, 37, and 3.\n",
    "\n",
    "# Find the sum of the only eleven primes that are both truncatable from left to right and right to left.\n",
    "\n",
    "# NOTE: 2, 3, 5, and 7 are not considered to be truncatable primes."
   ]
  },
  {
   "cell_type": "markdown",
   "metadata": {},
   "source": [
    "_________\n"
   ]
  },
  {
   "cell_type": "markdown",
   "metadata": {},
   "source": [
    "# Before running our code, let's reduce the set of possible values\n",
    "\n",
    "## Consider a 4 digit number\n",
    "\n",
    "### E.g. 1234\n",
    "\n",
    "- The left the right truncated values will be 1234, 234, 34, 4\n",
    "\n",
    "- **From this, we can see that for a number of however many digits, the last digit must be 3 or 7**\n",
    "    - If it is a 5, then the whole number will be divisible by 5\n",
    "    - If it is a 2, then the whole number will be divisible by 2\n",
    "    \n",
    "- The right to left truncated values will be 1234, 123, 12, 1\n",
    "\n",
    "- **From this, we can see that for a number of however many digits, the first digit must be 2, 3, 5 or 7**\n",
    "\n",
    "- **We can also see that none of the interior digits (i.e. the digits that aren't the first or last) cannot be**:\n",
    "    - Divisible by 2 or equal to 0\n",
    "        - This will cause one of the truncated values to be even\n",
    "    - Equal to  5\n",
    "        - This will cause one of the truncated values to be divisible by 5"
   ]
  },
  {
   "cell_type": "markdown",
   "metadata": {},
   "source": [
    "_____\n",
    "\n",
    "# Idea to reduce candidates\n",
    "\n",
    "# We can think of each candidate as $a * * ... * b$\n",
    "\n",
    "# $a$ is a digit taken from the list $[2, 3, 5, 7]$\n",
    "\n",
    "# $b$ is a digit taken from the list $[3, 7]$\n",
    "\n",
    "# Each $*$ is from the list $[1, 3, 7, 9]$\n",
    "\n",
    "## So, we'll create a function where the input is the number of $*$s in a number\n",
    "\n",
    "### E.g. if we want have a candidate of length 10, then there are 8 $*$s\n",
    "\n",
    "## This function will create all possible combinations of numbers that make up the $*$ component of the number\n",
    "\n",
    "## Then, we'll loop through and add the possible $a$ values to the front and the possible $b$ values to the back"
   ]
  },
  {
   "cell_type": "code",
   "execution_count": 1,
   "metadata": {},
   "outputs": [],
   "source": [
    "def generate_list(length):\n",
    "    if length == 0:\n",
    "        return []\n",
    "    list_digits = [1,3,7,9]\n",
    "    list_possibilities = list(list_digits)\n",
    "    for i in range(1,length):\n",
    "        list_i = []\n",
    "        for digit in list_digits:\n",
    "            list_temp = [x+(10**i)*digit for x in list_possibilities]\n",
    "            list_i = list_i + list_temp\n",
    "        list_possibilities = list(list_i)\n",
    "    return sorted(set(list_possibilities))"
   ]
  },
  {
   "cell_type": "code",
   "execution_count": 2,
   "metadata": {},
   "outputs": [],
   "source": [
    "import numpy as np"
   ]
  },
  {
   "cell_type": "code",
   "execution_count": 3,
   "metadata": {},
   "outputs": [],
   "source": [
    "list_two_digits = []\n",
    "for first_digit in ['2','3','5','7']:\n",
    "    for second_digit in ['3', '7']:\n",
    "        val = first_digit+second_digit\n",
    "        list_two_digits.append(int(val))"
   ]
  },
  {
   "cell_type": "markdown",
   "metadata": {},
   "source": [
    "# We don't know the max value of the $11^{th}$ truncatable prime, but for now we'll assume it has max 9 digits\n",
    "\n",
    "## We can always increase this later if we need"
   ]
  },
  {
   "cell_type": "code",
   "execution_count": 4,
   "metadata": {},
   "outputs": [],
   "source": [
    "array = np.array(list_two_digits)\n",
    "\n",
    "for n_digits in range(3,10):\n",
    "    list_array = generate_list(n_digits-2)\n",
    "    base_array = 10*np.array(list_array)\n",
    "    array1 = np.concatenate([base_array+3, base_array+7])\n",
    "    power = n_digits - 1\n",
    "    array2 = np.concatenate([array1+(10**power)*2, array1+(10**power)*3, array1+(10**power)*5, array1+(10**power)*7])\n",
    "    array = np.concatenate([array,array2])"
   ]
  },
  {
   "cell_type": "markdown",
   "metadata": {},
   "source": [
    "## Here's our list of candidates"
   ]
  },
  {
   "cell_type": "code",
   "execution_count": 5,
   "metadata": {},
   "outputs": [
    {
     "data": {
      "text/plain": [
       "array([       23,        27,        33, ..., 799999937, 799999977,\n",
       "       799999997])"
      ]
     },
     "execution_count": 5,
     "metadata": {},
     "output_type": "execute_result"
    }
   ],
   "source": [
    "array"
   ]
  },
  {
   "cell_type": "markdown",
   "metadata": {},
   "source": [
    "## Now we truncate from the left and right to see if our candidates are truncatable primes"
   ]
  },
  {
   "cell_type": "code",
   "execution_count": 6,
   "metadata": {},
   "outputs": [],
   "source": [
    "def is_prime(n):\n",
    "    if n == 1:\n",
    "        return False\n",
    "    max_divisor_check = int((n**0.5)//1 + 1)\n",
    "    for i in range(2, max_divisor_check):\n",
    "        if n % i == 0:\n",
    "            return False\n",
    "    return True"
   ]
  },
  {
   "cell_type": "code",
   "execution_count": 7,
   "metadata": {},
   "outputs": [],
   "source": [
    "def check_left_truncatable(n):\n",
    "    s = str(n)\n",
    "    for i in range(1,len(s)+1):\n",
    "        chunk = int(s[-i:])\n",
    "        if not is_prime(chunk):\n",
    "            return False\n",
    "    return True"
   ]
  },
  {
   "cell_type": "code",
   "execution_count": 8,
   "metadata": {},
   "outputs": [],
   "source": [
    "check_left_truncatable = np.vectorize(check_left_truncatable)"
   ]
  },
  {
   "cell_type": "code",
   "execution_count": 9,
   "metadata": {},
   "outputs": [],
   "source": [
    "array = array[check_left_truncatable(array)]"
   ]
  },
  {
   "cell_type": "code",
   "execution_count": 10,
   "metadata": {},
   "outputs": [],
   "source": [
    "def check_right_truncatable(n):\n",
    "    s = str(n)\n",
    "    for i in range(1,len(s)+1):\n",
    "        chunk = int(s[:i])\n",
    "        if not is_prime(chunk):\n",
    "            return False\n",
    "    return True"
   ]
  },
  {
   "cell_type": "code",
   "execution_count": 11,
   "metadata": {},
   "outputs": [],
   "source": [
    "check_right_truncatable = np.vectorize(check_right_truncatable)"
   ]
  },
  {
   "cell_type": "code",
   "execution_count": 12,
   "metadata": {},
   "outputs": [],
   "source": [
    "array = array[check_right_truncatable(array)]"
   ]
  },
  {
   "cell_type": "code",
   "execution_count": 13,
   "metadata": {},
   "outputs": [
    {
     "data": {
      "text/plain": [
       "array([    23,     37,     53,     73,    313,    373,    317,    797,\n",
       "         3137,   3797, 739397])"
      ]
     },
     "execution_count": 13,
     "metadata": {},
     "output_type": "execute_result"
    }
   ],
   "source": [
    "array"
   ]
  },
  {
   "cell_type": "code",
   "execution_count": 14,
   "metadata": {},
   "outputs": [
    {
     "data": {
      "text/plain": [
       "11"
      ]
     },
     "execution_count": 14,
     "metadata": {},
     "output_type": "execute_result"
    }
   ],
   "source": [
    "len(array)"
   ]
  },
  {
   "cell_type": "code",
   "execution_count": 15,
   "metadata": {},
   "outputs": [
    {
     "data": {
      "text/plain": [
       "748317"
      ]
     },
     "execution_count": 15,
     "metadata": {},
     "output_type": "execute_result"
    }
   ],
   "source": [
    "sum(array)"
   ]
  },
  {
   "cell_type": "markdown",
   "metadata": {},
   "source": [
    "# Answer: 748,317"
   ]
  }
 ],
 "metadata": {
  "kernelspec": {
   "display_name": "Python 3",
   "language": "python",
   "name": "python3"
  },
  "language_info": {
   "codemirror_mode": {
    "name": "ipython",
    "version": 3
   },
   "file_extension": ".py",
   "mimetype": "text/x-python",
   "name": "python",
   "nbconvert_exporter": "python",
   "pygments_lexer": "ipython3",
   "version": "3.6.5"
  }
 },
 "nbformat": 4,
 "nbformat_minor": 2
}
