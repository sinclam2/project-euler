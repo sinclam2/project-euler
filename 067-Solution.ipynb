{
 "cells": [
  {
   "cell_type": "markdown",
   "metadata": {},
   "source": [
    "# By starting at the top of the triangle below and moving to adjacent numbers on the row below, the maximum total from top to bottom is 23."
   ]
  },
  {
   "cell_type": "markdown",
   "metadata": {},
   "source": [
    "![](images/67.PNG)"
   ]
  },
  {
   "cell_type": "markdown",
   "metadata": {},
   "source": [
    "# That is, 3 + 7 + 4 + 9 = 23.\n",
    "\n",
    "# Find the maximum total from top to bottom in [p067_triangle.txt](p067_triangle.txt), a 15K text file containing a triangle with one-hundred rows."
   ]
  },
  {
   "cell_type": "markdown",
   "metadata": {},
   "source": [
    "_______"
   ]
  },
  {
   "cell_type": "code",
   "execution_count": 86,
   "metadata": {},
   "outputs": [],
   "source": [
    "f=open('p067_triangle.txt','r')\n",
    "rows=(f.read().replace('\"','').split('\\n'))\n",
    "list_rows = [x.split(' ') for x in rows][:-1]\n",
    "list_rows = [[int(a) for a in x] for x in list_rows]"
   ]
  },
  {
   "cell_type": "code",
   "execution_count": 87,
   "metadata": {},
   "outputs": [],
   "source": [
    "def combine_rows(list_top_row,list_bottom_row):\n",
    "    list_new = []\n",
    "    for i in range(len(list_top_row)):\n",
    "        left_index = i\n",
    "        right_index = i+1\n",
    "        top_val = list_top_row[i]\n",
    "        sum_left = top_val+list_bottom_row[left_index]\n",
    "        sum_right = top_val+list_bottom_row[right_index]\n",
    "        list_new.append(max(sum_left, sum_right))\n",
    "    return list_new"
   ]
  },
  {
   "cell_type": "code",
   "execution_count": 88,
   "metadata": {},
   "outputs": [],
   "source": [
    "i = -1\n",
    "\n",
    "while len(list_rows)>1:\n",
    "    list_bottom_row = list_rows[i]\n",
    "    list_top_row = list_rows[i-1]\n",
    "    list_new_row = combine_rows(list_top_row,list_bottom_row)\n",
    "    list_rows = list_rows[:-2] + [list_new_row]"
   ]
  },
  {
   "cell_type": "code",
   "execution_count": 89,
   "metadata": {},
   "outputs": [
    {
     "data": {
      "text/plain": [
       "[[7273]]"
      ]
     },
     "execution_count": 89,
     "metadata": {},
     "output_type": "execute_result"
    }
   ],
   "source": [
    "list_rows"
   ]
  },
  {
   "cell_type": "markdown",
   "metadata": {},
   "source": [
    "# Answer: 7273"
   ]
  }
 ],
 "metadata": {
  "kernelspec": {
   "display_name": "Python 3",
   "language": "python",
   "name": "python3"
  },
  "language_info": {
   "codemirror_mode": {
    "name": "ipython",
    "version": 3
   },
   "file_extension": ".py",
   "mimetype": "text/x-python",
   "name": "python",
   "nbconvert_exporter": "python",
   "pygments_lexer": "ipython3",
   "version": "3.6.5"
  }
 },
 "nbformat": 4,
 "nbformat_minor": 2
}
