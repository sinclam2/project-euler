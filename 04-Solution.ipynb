{
 "cells": [
  {
   "cell_type": "markdown",
   "metadata": {},
   "source": [
    "# A palindromic number reads the same both ways. The largest palindrome made from the product of two 2-digit numbers is 9009 = 91 × 99.\n",
    "\n",
    "# Find the largest palindrome made from the product of two 3-digit numbers."
   ]
  },
  {
   "cell_type": "markdown",
   "metadata": {},
   "source": [
    "_____"
   ]
  },
  {
   "cell_type": "code",
   "execution_count": 1,
   "metadata": {},
   "outputs": [
    {
     "data": {
      "text/plain": [
       "998001"
      ]
     },
     "execution_count": 1,
     "metadata": {},
     "output_type": "execute_result"
    }
   ],
   "source": [
    "999*999"
   ]
  },
  {
   "cell_type": "markdown",
   "metadata": {},
   "source": [
    "### The product of two 3 digit numbers will have at most 6 digits"
   ]
  },
  {
   "cell_type": "markdown",
   "metadata": {},
   "source": [
    "### A 6 digit palindrome will have the form XYZZYX\n",
    "\n",
    "- Creating a list of all 6 digit palindromes"
   ]
  },
  {
   "cell_type": "code",
   "execution_count": 3,
   "metadata": {},
   "outputs": [],
   "source": [
    "list_6 = []\n",
    "#note: X cannot be 0 since it would become a 5-digit number (by cancelling the 0)\n",
    "for X in [1,2,3,4,5,6,7,8,9]:\n",
    "    for Y in [0,1,2,3,4,5,6,7,8,9]:\n",
    "        for Z in [0,1,2,3,4,5,6,7,8,9]:\n",
    "            num = int('{}{}{}{}{}{}'.format(X,Y,Z,Z,Y,X))\n",
    "            list_6.append(num)"
   ]
  },
  {
   "cell_type": "markdown",
   "metadata": {},
   "source": [
    "____"
   ]
  },
  {
   "cell_type": "code",
   "execution_count": 2,
   "metadata": {},
   "outputs": [
    {
     "data": {
      "text/plain": [
       "10000"
      ]
     },
     "execution_count": 2,
     "metadata": {},
     "output_type": "execute_result"
    }
   ],
   "source": [
    "100*100"
   ]
  },
  {
   "cell_type": "markdown",
   "metadata": {},
   "source": [
    "### The product of two 3 digit numbers will have at least 5 digits"
   ]
  },
  {
   "cell_type": "markdown",
   "metadata": {},
   "source": [
    "### A 5 digit palindome will have the form XYZYX\n",
    "\n",
    "- Creating a list of all 5 digit palindromes"
   ]
  },
  {
   "cell_type": "code",
   "execution_count": 5,
   "metadata": {},
   "outputs": [],
   "source": [
    "list_5 = []\n",
    "#note: X cannot be 0 since it would become a 4-digit number (by cancelling the 0)\n",
    "for X in [1,2,3,4,5,6,7,8,9]:\n",
    "    for Y in [0,1,2,3,4,5,6,7,8,9]:\n",
    "        for Z in [0,1,2,3,4,5,6,7,8,9]:\n",
    "            num = int('{}{}{}{}{}'.format(X,Y,Z,Y,X))\n",
    "            list_5.append(num)"
   ]
  },
  {
   "cell_type": "markdown",
   "metadata": {},
   "source": [
    "___\n",
    "\n",
    "- Combining lists"
   ]
  },
  {
   "cell_type": "code",
   "execution_count": 9,
   "metadata": {},
   "outputs": [],
   "source": [
    "list_palindromes = list_6+list_5"
   ]
  },
  {
   "cell_type": "code",
   "execution_count": 19,
   "metadata": {},
   "outputs": [],
   "source": [
    "def check_palindromes(range_a, range_b):\n",
    "    list_nums = []\n",
    "    for a in range_a:\n",
    "        for b in range_b:\n",
    "            if a*b in list_palindromes:\n",
    "                list_nums.append(a*b)\n",
    "    return max(list_nums)"
   ]
  },
  {
   "cell_type": "code",
   "execution_count": 20,
   "metadata": {},
   "outputs": [
    {
     "data": {
      "text/plain": [
       "906609"
      ]
     },
     "execution_count": 20,
     "metadata": {},
     "output_type": "execute_result"
    }
   ],
   "source": [
    "check_palindromes(range(100,1000)[::-1],range(100,1000)[::-1])"
   ]
  },
  {
   "cell_type": "markdown",
   "metadata": {},
   "source": [
    "## Answer: 906,609"
   ]
  }
 ],
 "metadata": {
  "kernelspec": {
   "display_name": "Python 3",
   "language": "python",
   "name": "python3"
  },
  "language_info": {
   "codemirror_mode": {
    "name": "ipython",
    "version": 3
   },
   "file_extension": ".py",
   "mimetype": "text/x-python",
   "name": "python",
   "nbconvert_exporter": "python",
   "pygments_lexer": "ipython3",
   "version": "3.6.5"
  }
 },
 "nbformat": 4,
 "nbformat_minor": 2
}
