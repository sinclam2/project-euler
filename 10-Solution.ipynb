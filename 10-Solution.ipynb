{
 "cells": [
  {
   "cell_type": "markdown",
   "metadata": {},
   "source": [
    "# The sum of the primes below 10 is 2 + 3 + 5 + 7 = 17.\n",
    "\n",
    "# Find the sum of all the primes below two million."
   ]
  },
  {
   "cell_type": "markdown",
   "metadata": {},
   "source": [
    "____\n",
    "\n",
    "# Recall:\n",
    "\n",
    "## If $n$ is not prime, let $a$ be its smallest prime factor\n",
    "\n",
    "## Then, there is some value $b<n$ such that $n = ab$\n",
    "\n",
    "## Since $n$ is not prime, we know that $a>1$ and $b>1$\n",
    "\n",
    "## Also, since $a$ is the smallest prime factor, $a \\leq b$\n",
    "\n",
    "## Then, if $a>\\sqrt{n} \\implies b>\\sqrt{n} \\implies ab > n \\implies$ this is a contradiction\n",
    "\n",
    "## Therefore, we know the smallest prime factor for a non-prime number $n$ is ALWAYS LESS THAN $\\sqrt{n}$"
   ]
  },
  {
   "cell_type": "markdown",
   "metadata": {},
   "source": [
    "# *What does this mean?*\n",
    "\n",
    "### It means that if we want to check if a number is prime, we only need to check up to $\\sqrt{n}$\n",
    "\n",
    "### E.g. If we want to see if 22 is prime, $\\sqrt{22} = 4.69$ therefore the only possible prime factors are 2, 3, and 4"
   ]
  },
  {
   "cell_type": "code",
   "execution_count": 20,
   "metadata": {},
   "outputs": [],
   "source": [
    "def prime_check(x, list_primes):\n",
    "    if x%2==0:\n",
    "        return False\n",
    "    list_primes_cutoff = [n for n in list_primes if (n<=x**0.5)]\n",
    "    for prime in list_primes_cutoff:\n",
    "        if x%prime==0:\n",
    "            return False\n",
    "    return True"
   ]
  },
  {
   "cell_type": "code",
   "execution_count": null,
   "metadata": {},
   "outputs": [],
   "source": [
    "list_primes = [2,3]\n",
    "\n",
    "i = 3\n",
    "while i<2000000:\n",
    "    i += 1\n",
    "    if prime_check(i, list_primes):\n",
    "        list_primes.append(i)"
   ]
  }
 ],
 "metadata": {
  "kernelspec": {
   "display_name": "Python 3",
   "language": "python",
   "name": "python3"
  },
  "language_info": {
   "codemirror_mode": {
    "name": "ipython",
    "version": 3
   },
   "file_extension": ".py",
   "mimetype": "text/x-python",
   "name": "python",
   "nbconvert_exporter": "python",
   "pygments_lexer": "ipython3",
   "version": "3.6.4"
  }
 },
 "nbformat": 4,
 "nbformat_minor": 2
}
