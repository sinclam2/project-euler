{
 "cells": [
  {
   "cell_type": "markdown",
   "metadata": {},
   "source": [
    "# The primes 3, 7, 109, and 673, are quite remarkable. By taking any two primes and concatenating them in any order the result will always be prime. For example, taking 7 and 109, both 7109 and 1097 are prime. The sum of these four primes, 792, represents the lowest sum for a set of four primes with this property.\n",
    "\n",
    "# Find the lowest sum for a set of five primes for which any two primes concatenate to produce another prime."
   ]
  },
  {
   "cell_type": "markdown",
   "metadata": {},
   "source": [
    "_____"
   ]
  },
  {
   "cell_type": "code",
   "execution_count": 31,
   "metadata": {},
   "outputs": [],
   "source": [
    "def is_prime(n):\n",
    "    max_val = (n**0.5)//1 + 1\n",
    "    for i in range(2, int(max_val)):\n",
    "        if n%i==0:\n",
    "            return False\n",
    "    return True"
   ]
  },
  {
   "cell_type": "code",
   "execution_count": 115,
   "metadata": {},
   "outputs": [],
   "source": [
    "#generating list of primes less than 10,000\n",
    "list_primes = []\n",
    "\n",
    "for i in range(2,10000):\n",
    "    if is_prime(i):\n",
    "        list_primes.append(i)"
   ]
  },
  {
   "cell_type": "code",
   "execution_count": 116,
   "metadata": {},
   "outputs": [],
   "source": [
    "def check_concatenate(a, b):\n",
    "    \n",
    "    concat = int(str(a)+str(b))\n",
    "    if not is_prime(concat):\n",
    "        return False\n",
    "    \n",
    "    concat = int(str(b)+str(a))\n",
    "    if not is_prime(concat):\n",
    "        return False\n",
    "    \n",
    "    return True"
   ]
  },
  {
   "cell_type": "code",
   "execution_count": 117,
   "metadata": {},
   "outputs": [],
   "source": [
    "def find_primes():\n",
    "    for p1 in list_primes:\n",
    "        index1 = list_primes.index(p1)\n",
    "        for p2 in list_primes[index1+1:]:\n",
    "            if not check_concatenate(p1, p2):\n",
    "                continue           \n",
    "            index2 = list_primes.index(p2)\n",
    "            for p3 in list_primes[index2+1:]:\n",
    "                if not (check_concatenate(p1, p3))&(check_concatenate(p2, p3)):\n",
    "                    continue\n",
    "                index3 = list_primes.index(p3)\n",
    "                for p4 in list_primes[index3+1:]:\n",
    "                    if not (check_concatenate(p1, p4))&(check_concatenate(p2, p4))&(check_concatenate(p3, p4)):\n",
    "                        continue\n",
    "                    index4 = list_primes.index(p4)\n",
    "                    for p5 in list_primes[index4+1:]:\n",
    "                        if not (check_concatenate(p1, \n",
    "                                                  p5))&(check_concatenate(p2,\n",
    "                                                                          p5))&(check_concatenate(p3, \n",
    "                                                                                                  p5))&(check_concatenate(p4, \n",
    "                                                                                                                          p5)):\n",
    "                            continue\n",
    "                        list_results = [p1, p2, p3, p4, p5]\n",
    "                        return list_results, sum(list_results)"
   ]
  },
  {
   "cell_type": "code",
   "execution_count": 118,
   "metadata": {},
   "outputs": [
    {
     "data": {
      "text/plain": [
       "([13, 5197, 5701, 6733, 8389], 26033)"
      ]
     },
     "execution_count": 118,
     "metadata": {},
     "output_type": "execute_result"
    }
   ],
   "source": [
    "find_primes()"
   ]
  },
  {
   "cell_type": "markdown",
   "metadata": {},
   "source": [
    "# Answer: 26033"
   ]
  }
 ],
 "metadata": {
  "kernelspec": {
   "display_name": "Python 3",
   "language": "python",
   "name": "python3"
  },
  "language_info": {
   "codemirror_mode": {
    "name": "ipython",
    "version": 3
   },
   "file_extension": ".py",
   "mimetype": "text/x-python",
   "name": "python",
   "nbconvert_exporter": "python",
   "pygments_lexer": "ipython3",
   "version": "3.6.5"
  }
 },
 "nbformat": 4,
 "nbformat_minor": 2
}
