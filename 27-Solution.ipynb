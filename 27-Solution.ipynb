{
 "cells": [
  {
   "cell_type": "markdown",
   "metadata": {},
   "source": [
    "# Euler discovered the remarkable quadratic formula:\n",
    "\n",
    "# $n^{2}+n+41$\n",
    "\n",
    "# It turns out that the formula will produce 40 primes for the consecutive integer values $0 \\leq n \\leq 39$\n",
    "\n",
    "# However, when $n=40$, $40^{2}+40+41 = 40(40+1)+41 = 41^{2}$ which is divisible by 41\n",
    "\n",
    "# When $n=41$, $41^{2}+41+41$ is obviously divisible by 41\n",
    "\n",
    "# The incredible formula $n^{2}-79n+1601$ was discovered, which produces 80 primes for the consecutive values $0\\leq n\\leq79$. The product of the coefficients, −79 and 1601, is −126479."
   ]
  },
  {
   "cell_type": "markdown",
   "metadata": {},
   "source": [
    "# Considering quadratics of the form:\n",
    "\n",
    "# $n^{2}-an+b$ where $|a|<1000$ and $|b|\\leq 1000$\n",
    "\n",
    "# Find the product of the coefficients, $a$ and $b$, for the quadratic expression that produces the maximum number of primes for consecutive values of $n$, starting with $n=0$"
   ]
  },
  {
   "cell_type": "markdown",
   "metadata": {},
   "source": [
    "______"
   ]
  },
  {
   "cell_type": "markdown",
   "metadata": {},
   "source": [
    "## We know right away that $b$ needs to be prime since if $n=0$ the function is equal to $b$\n",
    "\n",
    "### Note: we'll start with the positive values, then repeat the process for negative values (so we don't get our wires crossed)"
   ]
  },
  {
   "cell_type": "code",
   "execution_count": 11,
   "metadata": {},
   "outputs": [],
   "source": [
    "def prime_check_list(x, list_primes):\n",
    "    for prime in list_primes:\n",
    "        if x%prime==0:\n",
    "            return False\n",
    "    return True"
   ]
  },
  {
   "cell_type": "code",
   "execution_count": 12,
   "metadata": {},
   "outputs": [],
   "source": [
    "list_b_candidates = [2,3]\n",
    "\n",
    "for i in range(4,1001):\n",
    "    if prime_check_list(i, list_b_candidates):\n",
    "        list_b_candidates.append(i)"
   ]
  },
  {
   "cell_type": "markdown",
   "metadata": {},
   "source": [
    "## Then, when $n=1$, the function is equal to $1-a+b \\implies$ we need to choose $a$ such that $1-a+b$ is prime"
   ]
  },
  {
   "cell_type": "markdown",
   "metadata": {},
   "source": [
    "- **Recall**: every composite number $n$ has a prime factor less than or equal to $\\sqrt{n}$"
   ]
  },
  {
   "cell_type": "code",
   "execution_count": 52,
   "metadata": {},
   "outputs": [],
   "source": [
    "def prime_check(n):\n",
    "    max_possibility = (abs(n**0.5)//1)+1\n",
    "    list_possible_divisors = list(range(2,int(max_possibility)))\n",
    "    for d in list_possible_divisors:\n",
    "        if n % d == 0:\n",
    "            return False\n",
    "    return True"
   ]
  },
  {
   "cell_type": "code",
   "execution_count": 53,
   "metadata": {},
   "outputs": [],
   "source": [
    "dict_a_candidates = {}\n",
    "\n",
    "for b in list_b_candidates:\n",
    "    list_a_candidates = []\n",
    "    for a in range(1000):\n",
    "        val = 1 - a + b\n",
    "        if prime_check(abs(val)):\n",
    "            list_a_candidates.append(a)\n",
    "    dict_a_candidates[b] = list_a_candidates"
   ]
  },
  {
   "cell_type": "markdown",
   "metadata": {},
   "source": [
    "## Now, we loop through the different $n$ values to see if the function creates primes"
   ]
  },
  {
   "cell_type": "code",
   "execution_count": 54,
   "metadata": {},
   "outputs": [],
   "source": [
    "def check_function(a,b):\n",
    "    f = lambda n: n**2 - a*n + b\n",
    "    n = 0\n",
    "    while True:\n",
    "        if not prime_check(f(n)):\n",
    "            return n\n",
    "        n += 1"
   ]
  },
  {
   "cell_type": "code",
   "execution_count": 55,
   "metadata": {},
   "outputs": [],
   "source": [
    "best_b = 0\n",
    "best_a = 0\n",
    "max_n = 0\n",
    "\n",
    "for b in list_b_candidates:\n",
    "    for a in dict_a_candidates[b]:\n",
    "        n = check_function(a,b)\n",
    "        if n > max_n:\n",
    "            best_b = b\n",
    "            best_a = a\n",
    "            max_n = n"
   ]
  },
  {
   "cell_type": "code",
   "execution_count": 60,
   "metadata": {},
   "outputs": [
    {
     "data": {
      "text/plain": [
       "(971, 61, 71)"
      ]
     },
     "execution_count": 60,
     "metadata": {},
     "output_type": "execute_result"
    }
   ],
   "source": [
    "best_b, best_a, max_n"
   ]
  },
  {
   "cell_type": "markdown",
   "metadata": {},
   "source": [
    "# Therefore the function $n^{2} - 61n + 971$ creates 71 primes"
   ]
  },
  {
   "cell_type": "code",
   "execution_count": 61,
   "metadata": {},
   "outputs": [
    {
     "data": {
      "text/plain": [
       "-59231"
      ]
     },
     "execution_count": 61,
     "metadata": {},
     "output_type": "execute_result"
    }
   ],
   "source": [
    "-61*971"
   ]
  },
  {
   "cell_type": "markdown",
   "metadata": {},
   "source": [
    "# Answer: $-59,231$"
   ]
  }
 ],
 "metadata": {
  "kernelspec": {
   "display_name": "Python 3",
   "language": "python",
   "name": "python3"
  },
  "language_info": {
   "codemirror_mode": {
    "name": "ipython",
    "version": 3
   },
   "file_extension": ".py",
   "mimetype": "text/x-python",
   "name": "python",
   "nbconvert_exporter": "python",
   "pygments_lexer": "ipython3",
   "version": "3.6.5"
  }
 },
 "nbformat": 4,
 "nbformat_minor": 2
}
