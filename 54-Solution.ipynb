{
 "cells": [
  {
   "cell_type": "markdown",
   "metadata": {},
   "source": [
    "# In the card game poker, a hand consists of five cards and are ranked, from lowest to highest, in the following way:\n",
    "\n",
    "- High Card: Highest value card.\n",
    "- One Pair: Two cards of the same value.\n",
    "- Two Pairs: Two different pairs.\n",
    "- Three of a Kind: Three cards of the same value.\n",
    "- Straight: All cards are consecutive values.\n",
    "- Flush: All cards of the same suit.\n",
    "- Full House: Three of a kind and a pair.\n",
    "- Four of a Kind: Four cards of the same value.\n",
    "- Straight Flush: All cards are consecutive values of same suit.\n",
    "- Royal Flush: Ten, Jack, Queen, King, Ace, in same suit.\n",
    "\n",
    "# The cards are valued in the order: 2, 3, 4, 5, 6, 7, 8, 9, 10, Jack, Queen, King, Ace."
   ]
  },
  {
   "cell_type": "markdown",
   "metadata": {},
   "source": [
    "## If two players have the same ranked hands then the rank made up of the highest value wins; for example, a pair of eights beats a pair of fives (see example 1 below). \n",
    "\n",
    "## But if two ranks tie, for example, both players have a pair of queens, then highest cards in each hand are compared (see example 4 below); if the highest cards tie then the next highest cards are compared, and so on."
   ]
  },
  {
   "cell_type": "markdown",
   "metadata": {},
   "source": [
    "# Consider the following five hands dealt to two players:\n",
    "\n",
    "![](images/54.PNG)"
   ]
  },
  {
   "cell_type": "markdown",
   "metadata": {},
   "source": [
    "# The file, [p054_poker.txt](p054_poker.txt), contains one-thousand random hands dealt to two players. Each line of the file contains ten cards (separated by a single space): the first five are Player 1's cards and the last five are Player 2's cards. You can assume that all hands are valid (no invalid characters or repeated cards), each player's hand is in no specific order, and in each hand there is a clear winner.\n",
    "\n",
    "# How many hands does Player 1 win?"
   ]
  },
  {
   "cell_type": "markdown",
   "metadata": {},
   "source": [
    "____"
   ]
  },
  {
   "cell_type": "code",
   "execution_count": 24,
   "metadata": {},
   "outputs": [],
   "source": [
    "f=open('p054_poker.txt','r')\n",
    "list_hands=list(f.read().split('\\n'))\n",
    "list_hands = [x.split(' ') for x in list_hands]\n",
    "list_hands = [(x[:5], x[5:]) for x in list_hands]"
   ]
  }
 ],
 "metadata": {
  "kernelspec": {
   "display_name": "Python 3",
   "language": "python",
   "name": "python3"
  },
  "language_info": {
   "codemirror_mode": {
    "name": "ipython",
    "version": 3
   },
   "file_extension": ".py",
   "mimetype": "text/x-python",
   "name": "python",
   "nbconvert_exporter": "python",
   "pygments_lexer": "ipython3",
   "version": "3.6.5"
  }
 },
 "nbformat": 4,
 "nbformat_minor": 2
}
