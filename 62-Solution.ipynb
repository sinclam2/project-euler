{
 "cells": [
  {
   "cell_type": "markdown",
   "metadata": {},
   "source": [
    "# The cube, 41063625 ($345^{3}$), can be permuted to produce two other cubes: 56623104 ($384^{3}$) and 66430125 ($405^{3}$). In fact, 41063625 is the smallest cube which has exactly three permutations of its digits which are also cube.\n",
    "\n",
    "# Find the smallest cube for which exactly five permutations of its digits are cube."
   ]
  },
  {
   "cell_type": "markdown",
   "metadata": {},
   "source": [
    "_____"
   ]
  },
  {
   "cell_type": "markdown",
   "metadata": {},
   "source": [
    "- Creating a list of the first 10,000 cubes\n",
    "- Instead of see which are permutations of each other, we'll just sort the digits\n",
    "    - E.g. instead of checking that 3442 and 2434 are permutations of each other, we can just show that if we sort their digits to 2344 they're the same"
   ]
  },
  {
   "cell_type": "code",
   "execution_count": 11,
   "metadata": {},
   "outputs": [],
   "source": [
    "list_10000 = [x**3 for x in range(1,10000)]\n",
    "list_digits = [''.join(sorted(list(str(x)))) for x in list_10000]"
   ]
  },
  {
   "cell_type": "markdown",
   "metadata": {},
   "source": [
    "- Now, we'll look through the set of distinct values in list_digits to see which come up 5 times"
   ]
  },
  {
   "cell_type": "code",
   "execution_count": 12,
   "metadata": {},
   "outputs": [
    {
     "name": "stdout",
     "output_type": "stream",
     "text": [
      "127035954683\n"
     ]
    }
   ],
   "source": [
    "found = False\n",
    "\n",
    "i = -1\n",
    "\n",
    "while not found:\n",
    "    i += 1\n",
    "    x = list_digits[i]\n",
    "    if list_digits.count(x)==5:\n",
    "        print(list_10000[i])\n",
    "        found = True"
   ]
  },
  {
   "cell_type": "markdown",
   "metadata": {},
   "source": [
    "# Answer: 127035954683"
   ]
  }
 ],
 "metadata": {
  "kernelspec": {
   "display_name": "Python 3",
   "language": "python",
   "name": "python3"
  },
  "language_info": {
   "codemirror_mode": {
    "name": "ipython",
    "version": 3
   },
   "file_extension": ".py",
   "mimetype": "text/x-python",
   "name": "python",
   "nbconvert_exporter": "python",
   "pygments_lexer": "ipython3",
   "version": "3.6.5"
  }
 },
 "nbformat": 4,
 "nbformat_minor": 2
}
