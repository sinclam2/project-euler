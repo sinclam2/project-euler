{
 "cells": [
  {
   "cell_type": "markdown",
   "metadata": {},
   "source": [
    "# We shall say that an n-digit number is pandigital if it makes use of all the digits 1 to n exactly once. For example, 2143 is a 4-digit pandigital and is also prime.\n",
    "\n",
    "# What is the largest n-digit pandigital prime that exists?"
   ]
  },
  {
   "cell_type": "markdown",
   "metadata": {},
   "source": [
    "______\n"
   ]
  },
  {
   "cell_type": "markdown",
   "metadata": {},
   "source": [
    "# Recall: the divisibility rule for 3 says that if the sum of a number's digits is divisible by 3, that number is divisible by 3\n",
    "\n",
    "# The sum of each 9 digit pandigital's digits is equal to 1+2+3+4+5+6+7+8+9 = 45\n",
    "\n",
    "# Therefore there is no 9 digit pandigital that is not divisible by 3"
   ]
  },
  {
   "cell_type": "markdown",
   "metadata": {},
   "source": [
    "# Similarly, the sum of the digits of each 8 digit pandigital's digits it 36\n",
    "\n",
    "# Therefore, the same is true of 8 digit pandigitals"
   ]
  },
  {
   "cell_type": "markdown",
   "metadata": {},
   "source": [
    "# The same is NOT TRUE for 7 digit pandigitals (sum = 28)"
   ]
  },
  {
   "cell_type": "markdown",
   "metadata": {},
   "source": [
    "## We'll start with the 7 digit pandigitals\n",
    "\n",
    "## We know that for a number to be prime, it's last digit cannot be a 0 or a multiple of 2\n",
    "\n",
    "## We also know that its last digit cannot be a 5, since it would be a multiple of 5"
   ]
  },
  {
   "cell_type": "code",
   "execution_count": 17,
   "metadata": {},
   "outputs": [],
   "source": [
    "from itertools import permutations\n",
    "import numpy as np"
   ]
  },
  {
   "cell_type": "code",
   "execution_count": 18,
   "metadata": {},
   "outputs": [],
   "source": [
    "list_pandigitals = []\n",
    "\n",
    "for last_digit in ['1','3']:\n",
    "    digits = '1234567'\n",
    "    remaining_digits = digits.replace(last_digit,'')\n",
    "    for number in permutations(remaining_digits):\n",
    "        pandigital = ''.join(number) + last_digit\n",
    "        list_pandigitals.append(int(pandigital))\n",
    "\n",
    "list_pandigitals = sorted(list_pandigitals)"
   ]
  },
  {
   "cell_type": "markdown",
   "metadata": {},
   "source": [
    "# Generating a list of the first 100 primes"
   ]
  },
  {
   "cell_type": "code",
   "execution_count": 19,
   "metadata": {},
   "outputs": [],
   "source": [
    "def sieve(n):\n",
    "    list_primes = [2,3,5]\n",
    "    if n <=3:\n",
    "        return list_primes[:n]\n",
    "    else:\n",
    "        i = 7\n",
    "        while len(list_primes)<n:\n",
    "            if len([x for x in list_primes if (i % x == 0)])==0:\n",
    "                list_primes.append(i)\n",
    "            i += 1\n",
    "    return list_primes"
   ]
  },
  {
   "cell_type": "code",
   "execution_count": 20,
   "metadata": {},
   "outputs": [],
   "source": [
    "list_first_10 = sieve(100)"
   ]
  },
  {
   "cell_type": "markdown",
   "metadata": {},
   "source": [
    "# Deleting the pandigitals that are divisible by one of the first 100"
   ]
  },
  {
   "cell_type": "code",
   "execution_count": 23,
   "metadata": {},
   "outputs": [],
   "source": [
    "for p in list_first_10:\n",
    "    list_pandigitals = [x for x in list_pandigitals if x%p!=0]"
   ]
  },
  {
   "cell_type": "markdown",
   "metadata": {},
   "source": [
    "# We'll now properly check that these are prime"
   ]
  },
  {
   "cell_type": "code",
   "execution_count": 25,
   "metadata": {},
   "outputs": [],
   "source": [
    "def is_prime(n):\n",
    "    max_val = (n**0.5//1)+1\n",
    "    for i in range(2, int(max_val)):\n",
    "        if n%i==0:\n",
    "            return False\n",
    "    return True"
   ]
  },
  {
   "cell_type": "code",
   "execution_count": 27,
   "metadata": {},
   "outputs": [],
   "source": [
    "list_pandigitals = [x for x in list_pandigitals if is_prime(x)]"
   ]
  },
  {
   "cell_type": "code",
   "execution_count": 28,
   "metadata": {},
   "outputs": [
    {
     "data": {
      "text/plain": [
       "7652413"
      ]
     },
     "execution_count": 28,
     "metadata": {},
     "output_type": "execute_result"
    }
   ],
   "source": [
    "max(list_pandigitals)"
   ]
  },
  {
   "cell_type": "markdown",
   "metadata": {},
   "source": [
    "# Answer: 7652413"
   ]
  }
 ],
 "metadata": {
  "kernelspec": {
   "display_name": "Python 3",
   "language": "python",
   "name": "python3"
  },
  "language_info": {
   "codemirror_mode": {
    "name": "ipython",
    "version": 3
   },
   "file_extension": ".py",
   "mimetype": "text/x-python",
   "name": "python",
   "nbconvert_exporter": "python",
   "pygments_lexer": "ipython3",
   "version": "3.6.5"
  }
 },
 "nbformat": 4,
 "nbformat_minor": 2
}
