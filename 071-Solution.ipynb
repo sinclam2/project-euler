{
 "cells": [
  {
   "cell_type": "markdown",
   "metadata": {},
   "source": [
    "# Consider the fraction, n/d, where n and d are positive integers. If n<d and HCF(n,d)=1, it is called a reduced proper fraction.\n",
    "\n",
    "# If we list the set of reduced proper fractions for d ≤ 8 in ascending order of size, we get:\n",
    "\n",
    "## 1/8, 1/7, 1/6, 1/5, 1/4, 2/7, 1/3, 3/8, 2/5, 3/7, 1/2, 4/7, 3/5, 5/8, 2/3, 5/7, 3/4, 4/5, 5/6, 6/7, 7/8\n",
    "\n",
    "# It can be seen that 2/5 is the fraction immediately to the left of 3/7.\n",
    "\n",
    "# By listing the set of reduced proper fractions for d ≤ 1,000,000 in ascending order of size, find the numerator of the fraction immediately to the left of 3/7."
   ]
  },
  {
   "cell_type": "markdown",
   "metadata": {},
   "source": [
    "____"
   ]
  },
  {
   "cell_type": "markdown",
   "metadata": {},
   "source": [
    "## We don't need to find each fraction and sort them\n",
    "\n",
    "## We can just find the one closest to 3/7 (from below) for each d, then rank them\n",
    "\n",
    "## For example, if our d is 99, the n that best approximates 3/7 is 42\n",
    "\n",
    "## 3/7-42/99 = 0.0043290043290042934\n",
    "\n",
    "## We loop through all the d values, find the best n value, and check the distance\n",
    "\n",
    "## Note: for some, the distance will be 0. But this only occurs when the fraction is reducible, therefore we ignore it\n",
    "\n",
    "### E.g. if d is 70, then the best n is 30. But 30/70 reduces to 3/7, which means n and d don't form a reduced proper fraction"
   ]
  },
  {
   "cell_type": "code",
   "execution_count": 6,
   "metadata": {},
   "outputs": [],
   "source": [
    "from fractions import Fraction\n",
    "import numpy as np"
   ]
  },
  {
   "cell_type": "code",
   "execution_count": 117,
   "metadata": {
    "scrolled": false
   },
   "outputs": [],
   "source": [
    "min_distance = 1\n",
    "best_n = 0\n",
    "best_d = 0\n",
    "\n",
    "for d in range(1,10**6+1):\n",
    "    #finding the n that best approximates 3/7\n",
    "    n = int((3*d/7))\n",
    "    #checking that the fraction isn't reducible to 3/7\n",
    "    if Fraction(n,d)!=Fraction(3,7):\n",
    "        #calculating the distance\n",
    "        distance = (3*d-7*n)/(7*d)\n",
    "        if distance < min_distance:\n",
    "            min_distance = distance\n",
    "            best_n = n\n",
    "            best_d = d"
   ]
  },
  {
   "cell_type": "code",
   "execution_count": 118,
   "metadata": {},
   "outputs": [
    {
     "data": {
      "text/plain": [
       "(428570, 999997)"
      ]
     },
     "execution_count": 118,
     "metadata": {},
     "output_type": "execute_result"
    }
   ],
   "source": [
    "best_n, best_d"
   ]
  },
  {
   "cell_type": "markdown",
   "metadata": {},
   "source": [
    "# Answer: 428570"
   ]
  }
 ],
 "metadata": {
  "kernelspec": {
   "display_name": "Python 3",
   "language": "python",
   "name": "python3"
  },
  "language_info": {
   "codemirror_mode": {
    "name": "ipython",
    "version": 3
   },
   "file_extension": ".py",
   "mimetype": "text/x-python",
   "name": "python",
   "nbconvert_exporter": "python",
   "pygments_lexer": "ipython3",
   "version": "3.6.5"
  }
 },
 "nbformat": 4,
 "nbformat_minor": 2
}
