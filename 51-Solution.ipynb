{
 "cells": [
  {
   "cell_type": "markdown",
   "metadata": {},
   "source": [
    "# By replacing the 1st digit of the 2-digit number $*3$, it turns out that six of the nine possible values: 13, 23, 43, 53, 73, and 83, are all prime."
   ]
  },
  {
   "cell_type": "markdown",
   "metadata": {},
   "source": [
    "# By replacing the 3rd and 4th digits of $56**3$ with the same digit, this 5-digit number is the first example having seven primes among the ten generated numbers, yielding the family: 56003, 56113, 56333, 56443, 56663, 56773, and 56993. Consequently 56003, being the first member of this family, is the smallest prime with this property."
   ]
  },
  {
   "cell_type": "markdown",
   "metadata": {},
   "source": [
    "# Find the smallest prime which, by replacing part of the number (not necessarily adjacent digits) with the same digit, is part of an eight prime value family."
   ]
  },
  {
   "cell_type": "markdown",
   "metadata": {},
   "source": [
    "_____\n",
    "\n",
    "- First, we define a function to check for primality"
   ]
  },
  {
   "cell_type": "code",
   "execution_count": 7,
   "metadata": {},
   "outputs": [],
   "source": [
    "def is_prime(n):\n",
    "    max_val = (n**0.5)//1 + 1\n",
    "    for i in range(2, int(max_val)):\n",
    "        if n%i == 0:\n",
    "            return False\n",
    "    return True"
   ]
  },
  {
   "cell_type": "markdown",
   "metadata": {},
   "source": [
    "- Now we define a function for replacing digits"
   ]
  },
  {
   "cell_type": "code",
   "execution_count": 59,
   "metadata": {},
   "outputs": [],
   "source": [
    "def replacements(n, list_digits_to_replace):\n",
    "    # list_digits to replace specifies which indices in range(len(n)) will be replaced with a *\n",
    "    s = str(n)\n",
    "    for i in list_digits_to_replace:\n",
    "        s = s[:i]+'*'+s[i+1:]\n",
    "    if 0 in list_digits_to_replace:\n",
    "        list_replacements = [int(s.replace('*',str(i))) for i in range(1,10)]\n",
    "    else:\n",
    "        list_replacements = [int(s.replace('*',str(i))) for i in range(10)]\n",
    "    return list_replacements"
   ]
  },
  {
   "cell_type": "code",
   "execution_count": 60,
   "metadata": {},
   "outputs": [],
   "source": [
    "from itertools import combinations"
   ]
  },
  {
   "cell_type": "code",
   "execution_count": 63,
   "metadata": {},
   "outputs": [
    {
     "name": "stdout",
     "output_type": "stream",
     "text": [
      "120383 [0, 2, 4] [121313, 222323, 323333, 424343, 525353, 626363, 727373, 828383, 929393]\n"
     ]
    }
   ],
   "source": [
    "i = 100\n",
    "found = False\n",
    "\n",
    "while not found:\n",
    "    i += 1\n",
    "    if is_prime(i):\n",
    "        n_replacements = range(1, len(str(i)))\n",
    "        string = ''.join([str(x) for x in range(len(str(i+1)))])\n",
    "        for m in n_replacements:\n",
    "            list_replacement_combinations = [x for x in combinations(string, m)]\n",
    "            for combination in list_replacement_combinations:\n",
    "                list_digits_to_replace = [int(x) for x in combination]\n",
    "                list_replacements = replacements(i, list_digits_to_replace)\n",
    "                if len([x for x in list_replacements if is_prime(x)])==8:\n",
    "                    print(i, list_digits_to_replace, list_replacements)\n",
    "                    found = True"
   ]
  },
  {
   "cell_type": "markdown",
   "metadata": {},
   "source": [
    "# Answer: 121313\n",
    "\n",
    "### Note: I don't really get the question, since 120383 is a prime and replacing some of the digits creates an 8 prime family, but whatever"
   ]
  }
 ],
 "metadata": {
  "kernelspec": {
   "display_name": "Python 3",
   "language": "python",
   "name": "python3"
  },
  "language_info": {
   "codemirror_mode": {
    "name": "ipython",
    "version": 3
   },
   "file_extension": ".py",
   "mimetype": "text/x-python",
   "name": "python",
   "nbconvert_exporter": "python",
   "pygments_lexer": "ipython3",
   "version": "3.6.5"
  }
 },
 "nbformat": 4,
 "nbformat_minor": 2
}
