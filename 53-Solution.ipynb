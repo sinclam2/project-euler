{
 "cells": [
  {
   "cell_type": "markdown",
   "metadata": {},
   "source": [
    "# There are exactly ten ways of selecting three from five, 12345:\n",
    "\n",
    "# 123, 124, 125, 134, 135, 145, 234, 235, 245, and 345\n",
    "\n",
    "# In combinatorics, we use the notation, 5C3 = 10.\n",
    "\n",
    "# In general, $nCr = \\frac{n!}{r!(n-r)!}$ where r ≤ n\n",
    "\n",
    "# It is not until n = 23, that a value exceeds one-million: 23C10 = 1144066.\n",
    "\n",
    "# How many, not necessarily distinct, values of  nCr, for 1 ≤ n ≤ 100, are greater than one-million?"
   ]
  },
  {
   "cell_type": "code",
   "execution_count": 1,
   "metadata": {},
   "outputs": [],
   "source": [
    "from math import factorial"
   ]
  },
  {
   "cell_type": "code",
   "execution_count": 2,
   "metadata": {},
   "outputs": [],
   "source": [
    "def choose(n, r):\n",
    "    val1 = factorial(n)/float(factorial(r))\n",
    "    val2 = 1.0/factorial(n-r)\n",
    "    return val1*val2"
   ]
  },
  {
   "cell_type": "code",
   "execution_count": 3,
   "metadata": {},
   "outputs": [],
   "source": [
    "count = 0\n",
    "\n",
    "for n in range(23,101):\n",
    "    for r in range(n+1):\n",
    "        if choose(n,r)>1000000:\n",
    "            count += 1"
   ]
  },
  {
   "cell_type": "code",
   "execution_count": 4,
   "metadata": {},
   "outputs": [
    {
     "data": {
      "text/plain": [
       "4075"
      ]
     },
     "execution_count": 4,
     "metadata": {},
     "output_type": "execute_result"
    }
   ],
   "source": [
    "count"
   ]
  },
  {
   "cell_type": "markdown",
   "metadata": {},
   "source": [
    "# Answer: 4075"
   ]
  }
 ],
 "metadata": {
  "kernelspec": {
   "display_name": "Python 3",
   "language": "python",
   "name": "python3"
  },
  "language_info": {
   "codemirror_mode": {
    "name": "ipython",
    "version": 3
   },
   "file_extension": ".py",
   "mimetype": "text/x-python",
   "name": "python",
   "nbconvert_exporter": "python",
   "pygments_lexer": "ipython3",
   "version": "3.6.5"
  }
 },
 "nbformat": 4,
 "nbformat_minor": 2
}
