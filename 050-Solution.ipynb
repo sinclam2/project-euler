{
 "cells": [
  {
   "cell_type": "markdown",
   "metadata": {},
   "source": [
    "# The prime 41, can be written as the sum of six consecutive primes:\n",
    "\n",
    "# 41 = 2 + 3 + 5 + 7 + 11 + 13\n"
   ]
  },
  {
   "cell_type": "markdown",
   "metadata": {},
   "source": [
    "# This is the longest sum of consecutive primes that adds to a prime below one-hundred.\n",
    "\n",
    "# The longest sum of consecutive primes below one-thousand that adds to a prime, contains 21 terms, and is equal to 953.\n",
    "\n",
    "# Which prime, below one-million, can be written as the sum of the most consecutive primes?"
   ]
  },
  {
   "cell_type": "code",
   "execution_count": 8,
   "metadata": {},
   "outputs": [],
   "source": [
    "import numpy as np"
   ]
  },
  {
   "cell_type": "markdown",
   "metadata": {},
   "source": [
    "- First, we generate a list of the first 1000 primes"
   ]
  },
  {
   "cell_type": "code",
   "execution_count": 1,
   "metadata": {},
   "outputs": [],
   "source": [
    "def prime_generator(n):\n",
    "    list_primes = [2,3]\n",
    "    i = 3\n",
    "    while len(list_primes)<n:\n",
    "        i+=1\n",
    "        if len([p for p in list_primes if i % p == 0])==0:\n",
    "            list_primes.append(i)\n",
    "    return list_primes"
   ]
  },
  {
   "cell_type": "code",
   "execution_count": 5,
   "metadata": {},
   "outputs": [],
   "source": [
    "list_primes_1000 = prime_generator(1000)"
   ]
  },
  {
   "cell_type": "markdown",
   "metadata": {},
   "source": [
    "- Now we define a function to check if a number is prime\n",
    "\n",
    "- *Why not just see if it's in the list?*\n",
    "    - Because the max value in the list is well below the maximum prime we'll need to check"
   ]
  },
  {
   "cell_type": "code",
   "execution_count": 7,
   "metadata": {},
   "outputs": [],
   "source": [
    "def prime_checker(n):\n",
    "    max_val = (n**0.5)//1 + 1\n",
    "    for i in range(2,int(max_val)):\n",
    "        if n % i == 0:\n",
    "            return False\n",
    "    else:\n",
    "        return True"
   ]
  },
  {
   "cell_type": "markdown",
   "metadata": {},
   "source": [
    "- Vectorizing the function so we can apply it to an entire numpy array at once very conveniently"
   ]
  },
  {
   "cell_type": "code",
   "execution_count": 9,
   "metadata": {},
   "outputs": [],
   "source": [
    "prime_checker = np.vectorize(prime_checker)"
   ]
  },
  {
   "cell_type": "markdown",
   "metadata": {},
   "source": [
    "- So now the idea is that we take the list of primes and start at 2\n",
    "    - We look at the cumulative sum of the primes until it exceeds 1,000,000\n",
    "        - E.g. the cumulative sum array will be [2,5,10,17,...]\n",
    "        - We chop off the first element and take check which values are prime\n",
    "            - *Why chop off the first element?*\n",
    "                - Because it'll just be equal to the a prime and not the sum of primes\n",
    "            - We take the index from our chopped list of the maximum value that is prime and add 1\n",
    "                - This value will be the number of primes summed\n",
    "- We repeat this process for all primes in the list"
   ]
  },
  {
   "cell_type": "code",
   "execution_count": 38,
   "metadata": {},
   "outputs": [],
   "source": [
    "max_prime = 0\n",
    "count = 0\n",
    "\n",
    "for i in range(len(list_primes_1000)):\n",
    "    array = np.cumsum(np.array(list_primes_1000[i:]))[1:]\n",
    "    array = array[array<1000000]\n",
    "    if len(array)>0:\n",
    "        check_array = prime_checker(array)\n",
    "        indices_array = np.where(check_array)\n",
    "        if indices_array[0].size>0:\n",
    "            max_index = np.max(indices_array)+1\n",
    "            if max_index > count:\n",
    "                count = max_index\n",
    "                max_prime = array[max_index - 1]"
   ]
  },
  {
   "cell_type": "code",
   "execution_count": 39,
   "metadata": {},
   "outputs": [
    {
     "data": {
      "text/plain": [
       "997651"
      ]
     },
     "execution_count": 39,
     "metadata": {},
     "output_type": "execute_result"
    }
   ],
   "source": [
    "max_prime"
   ]
  },
  {
   "cell_type": "markdown",
   "metadata": {},
   "source": [
    "# Answer: 997651"
   ]
  }
 ],
 "metadata": {
  "kernelspec": {
   "display_name": "Python 3",
   "language": "python",
   "name": "python3"
  },
  "language_info": {
   "codemirror_mode": {
    "name": "ipython",
    "version": 3
   },
   "file_extension": ".py",
   "mimetype": "text/x-python",
   "name": "python",
   "nbconvert_exporter": "python",
   "pygments_lexer": "ipython3",
   "version": "3.6.4"
  }
 },
 "nbformat": 4,
 "nbformat_minor": 2
}
