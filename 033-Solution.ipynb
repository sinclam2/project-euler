{
 "cells": [
  {
   "cell_type": "markdown",
   "metadata": {},
   "source": [
    "# The fraction 49/98 is a curious fraction, as an inexperienced mathematician in attempting to simplify it may incorrectly believe that 49/98 = 4/8, which is correct, is obtained by cancelling the 9s.\n",
    "\n",
    "# We shall consider fractions like, 30/50 = 3/5, to be trivial examples.\n",
    "\n",
    "# There are exactly four non-trivial examples of this type of fraction, less than one in value, and containing two digits in the numerator and denominator.\n",
    "\n",
    "# If the product of these four fractions is given in its lowest common terms, find the value of the denominator."
   ]
  },
  {
   "cell_type": "markdown",
   "metadata": {},
   "source": [
    "______"
   ]
  },
  {
   "cell_type": "markdown",
   "metadata": {},
   "source": [
    "## We'll start by creating the list of all possible fractions"
   ]
  },
  {
   "cell_type": "code",
   "execution_count": 14,
   "metadata": {},
   "outputs": [],
   "source": [
    "dict_combos = {}\n",
    "\n",
    "for denominator in range(10,100):\n",
    "    list_possibilities = []\n",
    "    digit1, digit2 = list(str(denominator))\n",
    "    if (digit1=='0') or (digit2=='0'):\n",
    "        continue\n",
    "    for digit in range(1,10):\n",
    "        num_1 = int(str(digit)+digit1)\n",
    "        num_2 = int(str(digit)+digit2)\n",
    "        num_3 = int(digit1+str(digit))\n",
    "        num_4 = int(digit2+str(digit))\n",
    "        for numerator in set([num_1, num_2, num_3, num_4]):\n",
    "            if  (numerator < denominator)&(len(str(numerator))>1):\n",
    "                list_possibilities.append(numerator)\n",
    "    if len(list_possibilities)>0:\n",
    "        dict_combos[denominator] = list_possibilities"
   ]
  },
  {
   "cell_type": "markdown",
   "metadata": {},
   "source": [
    "## Now we'll loop through the combinations"
   ]
  },
  {
   "cell_type": "code",
   "execution_count": 24,
   "metadata": {},
   "outputs": [
    {
     "name": "stdout",
     "output_type": "stream",
     "text": [
      "16/64\n",
      "26/65\n",
      "19/95\n",
      "49/98\n"
     ]
    }
   ],
   "source": [
    "for denominator in dict_combos.keys():\n",
    "    d1, d2 = list(str(denominator))\n",
    "    for numerator in dict_combos[denominator]:\n",
    "        n1, n2 = list(str(numerator))\n",
    "        if (n1 != n2)&(d1 != d2):\n",
    "            common_digit = list(set([d1,d2]).intersection(set([n1,n2])))[0]\n",
    "            new_fraction = int(str(numerator).replace(common_digit, ''))/int(str(denominator).replace(common_digit, ''))\n",
    "            if new_fraction == (numerator/denominator):\n",
    "                print('{}/{}'.format(numerator, denominator))"
   ]
  },
  {
   "cell_type": "markdown",
   "metadata": {},
   "source": [
    "## I just took out the cases `(n1 != n2)&(d1 != d2)` for simplicity so I could solve them later, but looks like the code doesn't need to consider those cases\n",
    "\n",
    "## There's probably an obvious reason for it, but I haven't thought enough about it"
   ]
  },
  {
   "cell_type": "code",
   "execution_count": 35,
   "metadata": {},
   "outputs": [],
   "source": [
    "from fractions import Fraction"
   ]
  },
  {
   "cell_type": "code",
   "execution_count": 37,
   "metadata": {},
   "outputs": [
    {
     "data": {
      "text/plain": [
       "Fraction(1, 100)"
      ]
     },
     "execution_count": 37,
     "metadata": {},
     "output_type": "execute_result"
    }
   ],
   "source": [
    "Fraction((16*26*19*49),(64*65*95*98))"
   ]
  },
  {
   "cell_type": "markdown",
   "metadata": {},
   "source": [
    "# Answer: 100"
   ]
  }
 ],
 "metadata": {
  "kernelspec": {
   "display_name": "Python 3",
   "language": "python",
   "name": "python3"
  },
  "language_info": {
   "codemirror_mode": {
    "name": "ipython",
    "version": 3
   },
   "file_extension": ".py",
   "mimetype": "text/x-python",
   "name": "python",
   "nbconvert_exporter": "python",
   "pygments_lexer": "ipython3",
   "version": "3.6.4"
  }
 },
 "nbformat": 4,
 "nbformat_minor": 2
}
