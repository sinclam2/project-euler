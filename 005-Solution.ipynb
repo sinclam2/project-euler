{
 "cells": [
  {
   "cell_type": "markdown",
   "metadata": {},
   "source": [
    "# 2520 is the smallest number that can be divided by each of the numbers from 1 to 10 without any remainder.\n",
    "\n",
    "# What is the smallest positive number that is evenly divisible by all of the numbers from 1 to 20?"
   ]
  },
  {
   "cell_type": "markdown",
   "metadata": {},
   "source": [
    "_____\n",
    "\n",
    "## The prime numbers  between 1 and 20 are 1, 2, 3, 5, 7, 11, 13, 17, and 19\n",
    "\n",
    "## If a number is divisible by 20, then it is automatically also divisible by 1, 2, 4, 5, and 10\n",
    "\n",
    "## If a number is divisible by 18, then it is automatically also divisible by 3, 6, and 9\n",
    "\n",
    "## If a number is divisible by 16, then it is automatically also divisible by 8\n",
    "\n",
    "## If a number is divisible by 14, then it is automatically also divisible by 7\n",
    "\n",
    "\n",
    "## If a number is already divisible by 20 and 18, we know it's divisible by 12\n",
    "\n",
    "# Therefore, we know a number is divisible by all numbers from 1 to 20 if it's divisible by all of [11,13,14,16,17,18,19,20]"
   ]
  },
  {
   "cell_type": "code",
   "execution_count": 4,
   "metadata": {},
   "outputs": [],
   "source": [
    "def check_divisible(x):\n",
    "    for num in [20,19,18,17,16,14,13,11]:\n",
    "        if x%num!=0:\n",
    "            return False\n",
    "    return True"
   ]
  },
  {
   "cell_type": "code",
   "execution_count": 5,
   "metadata": {},
   "outputs": [],
   "source": [
    "i = 0\n",
    "\n",
    "x = False\n",
    "\n",
    "while x == False:\n",
    "    i+=1\n",
    "    x = check_divisible(i)"
   ]
  },
  {
   "cell_type": "code",
   "execution_count": 6,
   "metadata": {},
   "outputs": [
    {
     "data": {
      "text/plain": [
       "232792560"
      ]
     },
     "execution_count": 6,
     "metadata": {},
     "output_type": "execute_result"
    }
   ],
   "source": [
    "i"
   ]
  },
  {
   "cell_type": "markdown",
   "metadata": {},
   "source": [
    "# Answer = 232,792,560"
   ]
  }
 ],
 "metadata": {
  "kernelspec": {
   "display_name": "Python 3",
   "language": "python",
   "name": "python3"
  },
  "language_info": {
   "codemirror_mode": {
    "name": "ipython",
    "version": 3
   },
   "file_extension": ".py",
   "mimetype": "text/x-python",
   "name": "python",
   "nbconvert_exporter": "python",
   "pygments_lexer": "ipython3",
   "version": "3.6.5"
  }
 },
 "nbformat": 4,
 "nbformat_minor": 2
}
