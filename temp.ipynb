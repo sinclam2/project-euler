{
 "cells": [
  {
   "cell_type": "code",
   "execution_count": 1,
   "metadata": {},
   "outputs": [],
   "source": [
    "import os"
   ]
  },
  {
   "cell_type": "code",
   "execution_count": 3,
   "metadata": {},
   "outputs": [
    {
     "name": "stdout",
     "output_type": "stream",
     "text": [
      "01 Solution.ipynb\n",
      "02 Solution.ipynb\n",
      "03 Solution.ipynb\n",
      "04 Solution.ipynb\n",
      "05 Solution.ipynb\n",
      "06 Solution.ipynb\n",
      "07 Solution.ipynb\n",
      "08 Solution.ipynb\n",
      "09 Solution.ipynb\n",
      "10 Solution.ipynb\n",
      "11 Solution.ipynb\n",
      "12 Solution.ipynb\n",
      "13 Solution.ipynb\n",
      "14 Solution.ipynb\n",
      "15 Solution.ipynb\n",
      "16 Solution.ipynb\n",
      "17 Solution.ipynb\n",
      "18 Solution.ipynb\n",
      "19 Solution.ipynb\n",
      "20 Solution.ipynb\n",
      "21 Solution.ipynb\n",
      "22 Solution.ipynb\n",
      "23 Solution.ipynb\n",
      "24 Solution.ipynb\n",
      "25 Solution.ipynb\n",
      "26 Solution.ipynb\n",
      "27 Solution.ipynb\n",
      "28 Solution.ipynb\n",
      "29 Solution.ipynb\n",
      "30 Solution.ipynb\n",
      "31 Solution.ipynb\n",
      "32 Solution.ipynb\n",
      "33 Solution.ipynb\n",
      "34 Solution.ipynb\n",
      "35 Solution.ipynb\n",
      "36 Solution.ipynb\n",
      "37 Solution.ipynb\n",
      "38 Solution.ipynb\n",
      "39 Solution.ipynb\n",
      "40 Solution.ipynb\n",
      "41 Solution.ipynb\n",
      "42 Solution.ipynb\n",
      "43 Solution.ipynb\n",
      "44 Solution.ipynb\n",
      "45 Solution.ipynb\n",
      "46 Solution.ipynb\n",
      "47 Solution.ipynb\n",
      "48 Solution.ipynb\n",
      "49 Solution.ipynb\n",
      "50 Solution.ipynb\n",
      "51 Solution.ipynb\n",
      "52 Solution.ipynb\n",
      "53 Solution.ipynb\n",
      "54 Solution.ipynb\n",
      "55 Solution.ipynb\n",
      "56 Solution.ipynb\n",
      "57 Solution.ipynb\n",
      "58 Solution.ipynb\n",
      "59 Solution.ipynb\n",
      "60 Solution.ipynb\n",
      "61 Solution.ipynb\n",
      "613 Solution.ipynb\n",
      "62 Solution.ipynb\n",
      "63 Solution.ipynb\n",
      "64 Solution.ipynb\n",
      "66 Solution.ipynb\n",
      "67 Solution.ipynb\n",
      "69 Solution.ipynb\n"
     ]
    }
   ],
   "source": [
    "for filename in os.listdir():\n",
    "    if 'Solution' in filename:\n",
    "        num, name = filename.split('-')\n",
    "        if len(num)==2:\n",
    "            new_name = filename.replace(num, '0')\n",
    "        print(num, name)"
   ]
  },
  {
   "cell_type": "code",
   "execution_count": null,
   "metadata": {},
   "outputs": [],
   "source": []
  }
 ],
 "metadata": {
  "kernelspec": {
   "display_name": "Python 3",
   "language": "python",
   "name": "python3"
  },
  "language_info": {
   "codemirror_mode": {
    "name": "ipython",
    "version": 3
   },
   "file_extension": ".py",
   "mimetype": "text/x-python",
   "name": "python",
   "nbconvert_exporter": "python",
   "pygments_lexer": "ipython3",
   "version": "3.6.5"
  }
 },
 "nbformat": 4,
 "nbformat_minor": 2
}
