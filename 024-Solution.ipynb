{
 "cells": [
  {
   "cell_type": "markdown",
   "metadata": {},
   "source": [
    "# A permutation is an ordered arrangement of objects. \n",
    "\n",
    "# For example, 3124 is one possible permutation of the digits 1, 2, 3 and 4. \n",
    "\n",
    "# If all of the permutations are listed numerically or alphabetically, we call it lexicographic order. \n",
    "\n",
    "# The lexicographic permutations of 0, 1 and 2 are:\n",
    "\n",
    "# 012   021   102   120   201   210\n",
    "\n",
    "# What is the millionth lexicographic permutation of the digits 0, 1, 2, 3, 4, 5, 6, 7, 8 and 9?\n",
    "\n",
    "_____"
   ]
  },
  {
   "cell_type": "code",
   "execution_count": 4,
   "metadata": {
    "collapsed": true
   },
   "outputs": [],
   "source": [
    "def permutations(list_values):\n",
    "    if len(list_values) == 2:\n",
    "        min_val = min(list_values)\n",
    "        max_val = max(list_values)\n",
    "        return [[min_val, max_val],[max_val, min_val]]\n",
    "    else:\n",
    "        list_permutations = []\n",
    "        for val in list_values:\n",
    "            list_temp = list(list_values)\n",
    "            list_temp.remove(val)\n",
    "            permutations_temp = permutations(list_temp)\n",
    "            permutations_extended = [[val] + permutation_list for permutation_list in permutations_temp]\n",
    "            list_permutations = list_permutations + permutations_extended\n",
    "        return list_permutations"
   ]
  },
  {
   "cell_type": "code",
   "execution_count": 8,
   "metadata": {
    "collapsed": false
   },
   "outputs": [],
   "source": [
    "list_permutations = permutations([0,1,2,3,4,5,6,7,8,9])"
   ]
  },
  {
   "cell_type": "code",
   "execution_count": 9,
   "metadata": {
    "collapsed": false
   },
   "outputs": [
    {
     "data": {
      "text/plain": [
       "[2, 7, 8, 3, 9, 1, 5, 4, 6, 0]"
      ]
     },
     "execution_count": 9,
     "metadata": {},
     "output_type": "execute_result"
    }
   ],
   "source": [
    "list_permutations[1000000-1]"
   ]
  },
  {
   "cell_type": "markdown",
   "metadata": {},
   "source": [
    "# Answer: 2783915460"
   ]
  }
 ],
 "metadata": {
  "kernelspec": {
   "display_name": "Python 2",
   "language": "python",
   "name": "python2"
  },
  "language_info": {
   "codemirror_mode": {
    "name": "ipython",
    "version": 2
   },
   "file_extension": ".py",
   "mimetype": "text/x-python",
   "name": "python",
   "nbconvert_exporter": "python",
   "pygments_lexer": "ipython2",
   "version": "2.7.11"
  }
 },
 "nbformat": 4,
 "nbformat_minor": 2
}
