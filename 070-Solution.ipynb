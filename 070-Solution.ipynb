{
 "cells": [
  {
   "cell_type": "markdown",
   "metadata": {},
   "source": [
    "# Euler's Totient function, φ(n) [sometimes called the phi function], is used to determine the number of positive numbers less than or equal to n which are relatively prime to n. \n",
    "\n",
    "# For example, as 1, 2, 4, 5, 7, and 8, are all less than nine and relatively prime to nine, φ(9)=6.\n",
    "\n",
    "# The number 1 is considered to be relatively prime to every positive number, so φ(1)=1.\n",
    "\n",
    "# Interestingly, φ(87109)=79180, and it can be seen that 87109 is a permutation of 79180.\n",
    "\n",
    "# Find the value of n, 1 < n < $10^{7}$, for which φ(n) is a permutation of n and the ratio n/φ(n) produces a minimum."
   ]
  },
  {
   "cell_type": "markdown",
   "metadata": {},
   "source": [
    "_____"
   ]
  },
  {
   "cell_type": "markdown",
   "metadata": {},
   "source": [
    "# Euler's product formula tells us that the value of totient functions can be expressed as:\n",
    "\n",
    "# $\\phi(n) = n \\prod (1-\\frac{1}{p})$"
   ]
  },
  {
   "cell_type": "markdown",
   "metadata": {},
   "source": [
    "# Where each $p$ is a prime divisor of $n$"
   ]
  },
  {
   "cell_type": "markdown",
   "metadata": {},
   "source": [
    "## Therefore, we first need to define a way to find the prime factors of $n$"
   ]
  },
  {
   "cell_type": "code",
   "execution_count": 78,
   "metadata": {},
   "outputs": [],
   "source": [
    "import numpy as np"
   ]
  },
  {
   "cell_type": "code",
   "execution_count": 79,
   "metadata": {},
   "outputs": [],
   "source": [
    "def prime_factors(n):\n",
    "    p = 2\n",
    "    list_prime_factors = []\n",
    "    \n",
    "    #first, check that p is less than or equal to the square root of n\n",
    "    while p**2 <= n:\n",
    "        #checking if p divides n\n",
    "        if n % p == 0:\n",
    "            list_prime_factors.append(p)\n",
    "            #if p DOES divide n, we continuously divide by p\n",
    "            while n % p == 0:\n",
    "                n = n/p\n",
    "        #We increment p upwards\n",
    "        # BUT WHAT ABOUT NON-PRIME p VALUES?\n",
    "            # We don't need ot worry about those, since they won't divide n\n",
    "                # E.g. if we do p=2, then p=3, then p=4 (a non-prime), if n was originally divisible by 4, it would have\n",
    "                # already been divided by 2 twice, so the reduced n won't be divisible anymore and it won't matter\n",
    "        p += 1\n",
    "        \n",
    "    if n > 1:\n",
    "        list_prime_factors.append(n)\n",
    "    return list_prime_factors"
   ]
  },
  {
   "cell_type": "markdown",
   "metadata": {},
   "source": [
    "## Now we define the totient function"
   ]
  },
  {
   "cell_type": "code",
   "execution_count": 118,
   "metadata": {},
   "outputs": [],
   "source": [
    "def phi(n):\n",
    "    array_primes = np.array(prime_factors(n))\n",
    "    array_numerators = array_primes - 1\n",
    "    total = n*np.prod(array_numerators)/np.prod(array_primes)\n",
    "    return int(total)"
   ]
  },
  {
   "cell_type": "markdown",
   "metadata": {},
   "source": [
    "## Now, before we try to crank through all the values in the range, let's try to reduce the set to iterate over\n",
    "\n",
    "## We notice that we can simplify the ratio: $\\frac{n}{\\phi(n)} = \\frac{n}{n \\prod (1-\\frac{1}{p})} = \\frac{1}{ \\prod (1-\\frac{1}{p})}$"
   ]
  },
  {
   "cell_type": "markdown",
   "metadata": {},
   "source": [
    "## Each $p$ is a prime divisor of $n$, therefore the more prime divisors, the smaller the numerator and thus the larger the ratio"
   ]
  },
  {
   "cell_type": "markdown",
   "metadata": {},
   "source": [
    "## To minimize this ratio, we need to maximize the denominator"
   ]
  },
  {
   "cell_type": "markdown",
   "metadata": {},
   "source": [
    "## *What about trying to find the largest prime, since it'll only have itself as the prime divisor?*\n",
    "\n",
    "## The problem with this is that the totient function becomes $\\phi(n) = n \\cdot (1-1/n) = n \\cdot (n-1/n) = n-1$, which cannot be a permutation of $n$"
   ]
  },
  {
   "cell_type": "markdown",
   "metadata": {},
   "source": [
    "## So, since we don't want it to have only one prime divisor, the next best option is two prime divisors\n",
    "\n",
    "## *But how can we pick the prime divisors?*\n",
    "\n",
    "## We can rewrite our denominator as $\\prod (1-\\frac{1}{p}) = \\left (1 - \\frac{1}{p_{1}} \\right )\\cdot \\left (1 - \\frac{1}{p_{2}} \\right ) = \\frac{p_{1}-1}{p_{1}}\\cdot\\frac{p_{2}-1}{p_{2}}$"
   ]
  },
  {
   "cell_type": "markdown",
   "metadata": {},
   "source": [
    "## This fraction is maximized when $p_{1}$ and $p_{2}$ are as close to eachother as possible\n",
    "\n",
    "## Therefore we want to find two primes as close to $\\sqrt{10^{7}}$ as possible"
   ]
  },
  {
   "cell_type": "markdown",
   "metadata": {},
   "source": [
    "## So, we'll make a list of primes between 2000 and 5000 and take their products, then get their ratio"
   ]
  },
  {
   "cell_type": "code",
   "execution_count": 114,
   "metadata": {},
   "outputs": [],
   "source": [
    "def prime_generator(n):\n",
    "    list_primes = [2,3]\n",
    "    i = 3\n",
    "    while i<n:\n",
    "        i+=1\n",
    "        if len([p for p in list_primes if i % p == 0])==0:\n",
    "            list_primes.append(i)\n",
    "    return list_primes"
   ]
  },
  {
   "cell_type": "code",
   "execution_count": 115,
   "metadata": {},
   "outputs": [],
   "source": [
    "list_primes = [x for x in prime_generator(5000) if x>=2000]"
   ]
  },
  {
   "cell_type": "code",
   "execution_count": 127,
   "metadata": {},
   "outputs": [],
   "source": [
    "min_ratio = 100\n",
    "min_n = 0\n",
    "\n",
    "list_candidates = [x for x in set((np.array(list_primes)*(np.array(list_primes)[:,np.newaxis])).ravel()) if x<10**7]\n",
    "set_candidates = set(list_candidates) - set([p**2 for p in list_primes])\n",
    "\n",
    "for n in set_candidates:\n",
    "    phi_n = phi(n)\n",
    "    if sorted(str(n))==sorted(str(phi_n)):\n",
    "        ratio = n/phi_n\n",
    "        if ratio < min_ratio:\n",
    "            min_n = n\n",
    "            min_ratio = ratio"
   ]
  },
  {
   "cell_type": "code",
   "execution_count": 128,
   "metadata": {},
   "outputs": [
    {
     "data": {
      "text/plain": [
       "(8319823, 1.0007090511248113)"
      ]
     },
     "execution_count": 128,
     "metadata": {},
     "output_type": "execute_result"
    }
   ],
   "source": [
    "min_n, min_ratio"
   ]
  },
  {
   "cell_type": "markdown",
   "metadata": {},
   "source": [
    "# Answer: 8319823"
   ]
  },
  {
   "cell_type": "markdown",
   "metadata": {},
   "source": [
    "### Note: I know this solution isn't super fast, but good enough"
   ]
  }
 ],
 "metadata": {
  "kernelspec": {
   "display_name": "Python 3",
   "language": "python",
   "name": "python3"
  },
  "language_info": {
   "codemirror_mode": {
    "name": "ipython",
    "version": 3
   },
   "file_extension": ".py",
   "mimetype": "text/x-python",
   "name": "python",
   "nbconvert_exporter": "python",
   "pygments_lexer": "ipython3",
   "version": "3.6.5"
  }
 },
 "nbformat": 4,
 "nbformat_minor": 2
}
