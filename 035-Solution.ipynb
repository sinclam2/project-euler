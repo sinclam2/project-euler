{
 "cells": [
  {
   "cell_type": "markdown",
   "metadata": {},
   "source": [
    "# The number, 197, is called a circular prime because all rotations of the digits: 197, 971, and 719, are themselves prime.\n",
    "\n",
    "# There are thirteen such primes below 100: 2, 3, 5, 7, 11, 13, 17, 31, 37, 71, 73, 79, and 97.\n",
    "\n",
    "# How many circular primes are there below one million?"
   ]
  },
  {
   "cell_type": "markdown",
   "metadata": {},
   "source": [
    "_____\n",
    "\n",
    "# Instead of looping through all the numbers in 1 to 1 million, we'll first reduce the set of candidates"
   ]
  },
  {
   "cell_type": "markdown",
   "metadata": {},
   "source": [
    "### We know that any number that contains a 2,4,6, 8 or 0 will not work because one of the rotations will be an even number"
   ]
  },
  {
   "cell_type": "code",
   "execution_count": 10,
   "metadata": {},
   "outputs": [],
   "source": [
    "list_candidates = [x for x in range(3,1000001) if len([y for y in list(str(x)) if int(y)%2==0])==0]"
   ]
  },
  {
   "cell_type": "markdown",
   "metadata": {},
   "source": [
    "- Reducing the candidates again with the first couple primes"
   ]
  },
  {
   "cell_type": "code",
   "execution_count": 11,
   "metadata": {},
   "outputs": [],
   "source": [
    "list_candidates = [x for x in list_candidates if (x%3!=0)&(x%5!=0)&(x%7!=0)&(x%11!=0)]"
   ]
  },
  {
   "cell_type": "markdown",
   "metadata": {},
   "source": [
    "- Running our slow prime checker on it now"
   ]
  },
  {
   "cell_type": "code",
   "execution_count": 12,
   "metadata": {},
   "outputs": [],
   "source": [
    "def check_prime(n):\n",
    "    max_check = ((n**0.5)//1)+1\n",
    "    for i in range(2,int(max_check)):\n",
    "        if n%i==0:\n",
    "            return False\n",
    "    return True"
   ]
  },
  {
   "cell_type": "code",
   "execution_count": 13,
   "metadata": {},
   "outputs": [],
   "source": [
    "list_candidates = [x for x in list_candidates if check_prime(x)]"
   ]
  },
  {
   "cell_type": "markdown",
   "metadata": {},
   "source": [
    "- Now taking the rotations"
   ]
  },
  {
   "cell_type": "code",
   "execution_count": 16,
   "metadata": {},
   "outputs": [],
   "source": [
    "def check_rotations(p, list_candidates):\n",
    "    s = str(p)\n",
    "    n = len(str(p))\n",
    "    for i in range(1,n):\n",
    "        s = s[1:]+s[0]\n",
    "        if int(s) not in list_candidates:\n",
    "            return False\n",
    "    return True"
   ]
  },
  {
   "cell_type": "code",
   "execution_count": 17,
   "metadata": {},
   "outputs": [],
   "source": [
    "list_results = [x for x in list_candidates if check_rotations(x,list_candidates)]"
   ]
  },
  {
   "cell_type": "code",
   "execution_count": 20,
   "metadata": {},
   "outputs": [
    {
     "data": {
      "text/plain": [
       "[13,\n",
       " 17,\n",
       " 31,\n",
       " 37,\n",
       " 71,\n",
       " 73,\n",
       " 79,\n",
       " 97,\n",
       " 113,\n",
       " 131,\n",
       " 197,\n",
       " 199,\n",
       " 311,\n",
       " 337,\n",
       " 373,\n",
       " 719,\n",
       " 733,\n",
       " 919,\n",
       " 971,\n",
       " 991,\n",
       " 1193,\n",
       " 1931,\n",
       " 3119,\n",
       " 3779,\n",
       " 7793,\n",
       " 7937,\n",
       " 9311,\n",
       " 9377,\n",
       " 11939,\n",
       " 19391,\n",
       " 19937,\n",
       " 37199,\n",
       " 39119,\n",
       " 71993,\n",
       " 91193,\n",
       " 93719,\n",
       " 93911,\n",
       " 99371,\n",
       " 193939,\n",
       " 199933,\n",
       " 319993,\n",
       " 331999,\n",
       " 391939,\n",
       " 393919,\n",
       " 919393,\n",
       " 933199,\n",
       " 939193,\n",
       " 939391,\n",
       " 993319,\n",
       " 999331]"
      ]
     },
     "execution_count": 20,
     "metadata": {},
     "output_type": "execute_result"
    }
   ],
   "source": [
    "list_results"
   ]
  },
  {
   "cell_type": "markdown",
   "metadata": {},
   "source": [
    "# Recall: we removed 2, 3, 5, 7, and 11 from our list, so we need to add them back"
   ]
  },
  {
   "cell_type": "code",
   "execution_count": 21,
   "metadata": {},
   "outputs": [],
   "source": [
    "list_results = [2,3,5,7,11] + list_results"
   ]
  },
  {
   "cell_type": "code",
   "execution_count": 22,
   "metadata": {},
   "outputs": [
    {
     "data": {
      "text/plain": [
       "55"
      ]
     },
     "execution_count": 22,
     "metadata": {},
     "output_type": "execute_result"
    }
   ],
   "source": [
    "len(list_results)"
   ]
  },
  {
   "cell_type": "markdown",
   "metadata": {},
   "source": [
    "# Answer: 55"
   ]
  }
 ],
 "metadata": {
  "kernelspec": {
   "display_name": "Python 3",
   "language": "python",
   "name": "python3"
  },
  "language_info": {
   "codemirror_mode": {
    "name": "ipython",
    "version": 3
   },
   "file_extension": ".py",
   "mimetype": "text/x-python",
   "name": "python",
   "nbconvert_exporter": "python",
   "pygments_lexer": "ipython3",
   "version": "3.6.4"
  }
 },
 "nbformat": 4,
 "nbformat_minor": 2
}
