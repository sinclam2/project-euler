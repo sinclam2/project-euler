{
 "cells": [
  {
   "cell_type": "markdown",
   "metadata": {},
   "source": [
    "# The following iterative sequence is defined for the set of positive integers:\n",
    "\n",
    "# $f(n) = \\begin{cases}\\frac{n}{2} & \\text{ if } n \\text{ is even} \\\\ 3n+1 & \\text{ if } n \\text{ is odd} \\end{cases}$"
   ]
  },
  {
   "cell_type": "markdown",
   "metadata": {},
   "source": [
    "# Using the rule above and starting with 13, we generate the following sequence:\n",
    "\n",
    "# 13 → 40 → 20 → 10 → 5 → 16 → 8 → 4 → 2 → 1\n",
    "\n",
    "# It can be seen that this sequence (starting at 13 and finishing at 1) contains 10 terms. Although it has not been proved yet (Collatz Problem), it is thought that all starting numbers finish at 1.\n",
    "\n",
    "# Which starting number, under one million, produces the longest chain?"
   ]
  },
  {
   "cell_type": "markdown",
   "metadata": {},
   "source": [
    "____\n"
   ]
  },
  {
   "cell_type": "code",
   "execution_count": 1,
   "metadata": {},
   "outputs": [],
   "source": [
    "def f(x):\n",
    "    if x%2==0:\n",
    "        return x/2\n",
    "    else:\n",
    "        return 3*x+1"
   ]
  },
  {
   "cell_type": "code",
   "execution_count": 9,
   "metadata": {},
   "outputs": [],
   "source": [
    "max_steps = 0\n",
    "max_id = 0\n",
    "dict_steps = {}\n",
    "for i in range(2,1000000):\n",
    "    steps = 0\n",
    "    num = i\n",
    "    while num != 1:\n",
    "        steps += 1\n",
    "        num = f(num)\n",
    "        if num in dict_steps.keys():\n",
    "            steps += dict_steps[num]\n",
    "            num = 1\n",
    "    dict_steps[i] = steps\n",
    "    if steps>max_steps:\n",
    "        max_steps = steps\n",
    "        max_id = i"
   ]
  },
  {
   "cell_type": "code",
   "execution_count": 10,
   "metadata": {},
   "outputs": [
    {
     "data": {
      "text/plain": [
       "(837799, 524)"
      ]
     },
     "execution_count": 10,
     "metadata": {},
     "output_type": "execute_result"
    }
   ],
   "source": [
    "max_id, max_steps"
   ]
  },
  {
   "cell_type": "markdown",
   "metadata": {},
   "source": [
    "# Answer: 837799"
   ]
  }
 ],
 "metadata": {
  "kernelspec": {
   "display_name": "Python 3",
   "language": "python",
   "name": "python3"
  },
  "language_info": {
   "codemirror_mode": {
    "name": "ipython",
    "version": 3
   },
   "file_extension": ".py",
   "mimetype": "text/x-python",
   "name": "python",
   "nbconvert_exporter": "python",
   "pygments_lexer": "ipython3",
   "version": "3.6.4"
  }
 },
 "nbformat": 4,
 "nbformat_minor": 2
}
