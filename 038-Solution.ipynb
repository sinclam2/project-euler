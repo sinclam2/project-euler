{
 "cells": [
  {
   "cell_type": "markdown",
   "metadata": {},
   "source": [
    "# Take the number 192 and multiply it by each of 1, 2, and 3:\n",
    "\n",
    "- 192 × 1 = 192\n",
    "- 192 × 2 = 384\n",
    "- 192 × 3 = 576\n",
    "\n",
    "# By concatenating each product we get the 1 to 9 pandigital, 192384576. We will call 192384576 the concatenated product of 192 and (1,2,3)"
   ]
  },
  {
   "cell_type": "markdown",
   "metadata": {},
   "source": [
    "# The same can be achieved by starting with 9 and multiplying by 1, 2, 3, 4, and 5, giving the pandigital, 918273645, which is the concatenated product of 9 and (1,2,3,4,5)."
   ]
  },
  {
   "cell_type": "markdown",
   "metadata": {},
   "source": [
    "# What is the largest 1 to 9 pandigital 9-digit number that can be formed as the concatenated product of an integer with (1,2, ... , n) where n > 1?"
   ]
  },
  {
   "cell_type": "markdown",
   "metadata": {},
   "source": [
    "______"
   ]
  },
  {
   "cell_type": "markdown",
   "metadata": {},
   "source": [
    "## We need to limit the numbers we're checking\n",
    "\n",
    "## We start by observing that if our integer has $l$-digits and we take its concatenated product with $(1,2,...,n)$, the length of the concatenated product will be at least $n\\cdot l$ digits long\n",
    "\n",
    "## Each 1 to 9 pandigital has length 9\n",
    "\n",
    "## Therefore, we know that $l$ must be equal to or less than 9, and $n$ is bounded at $\\frac{9}{n}$\n",
    "\n",
    "## We also know that $n>1$ therefore $l$ must be less than 9"
   ]
  },
  {
   "cell_type": "markdown",
   "metadata": {},
   "source": [
    "### Furthermore, we know that 918273645 can be acheived using the integer 9\n",
    "\n",
    "### This means that for some other concatenated product to achieve a greater pandigital number, the first digit must be a 9 (since the first $l$ digits of the pandigital number is just the digits of the integer)\n",
    "\n",
    "### E.g. the first three digits of the example above using 192 as the integer are 192\n",
    "\n",
    "### Additionally, we know that there can be no repeating digits"
   ]
  },
  {
   "cell_type": "code",
   "execution_count": 1,
   "metadata": {},
   "outputs": [],
   "source": [
    "import numpy as np"
   ]
  },
  {
   "cell_type": "code",
   "execution_count": 9,
   "metadata": {},
   "outputs": [],
   "source": [
    "dict_candidates = {1:np.array([9])}\n",
    "\n",
    "for l in range(2, 9):\n",
    "    N = l-1\n",
    "    array_digits = np.arange(10**(N-1), 10**N)\n",
    "    array_candidates = 9*(10**N)+array_digits\n",
    "    list_candidates = [x for x in array_candidates if (list(str(x)).count('0')==0)&(len(set(list(str(x))))==l)]\n",
    "    dict_candidates[l] = list_candidates"
   ]
  },
  {
   "cell_type": "code",
   "execution_count": 10,
   "metadata": {},
   "outputs": [],
   "source": [
    "def concatenated_product(integer, n):\n",
    "    array = integer*np.arange(1,n+1)\n",
    "    string = ''.join([str(x) for x in array])\n",
    "    return int(string)"
   ]
  },
  {
   "cell_type": "code",
   "execution_count": 11,
   "metadata": {},
   "outputs": [],
   "source": [
    "list_check = [str(i) for i in range(1,10)]\n",
    "\n",
    "def check_pandigital(x):\n",
    "    list_x = list(str(x))\n",
    "    if len(list_x)==9:\n",
    "        for i in list_check:\n",
    "            if (list_x.count(i)!=1):\n",
    "                return False\n",
    "    else:\n",
    "        return False\n",
    "    return True"
   ]
  },
  {
   "cell_type": "code",
   "execution_count": 12,
   "metadata": {},
   "outputs": [],
   "source": [
    "list_results = []\n",
    "\n",
    "for l in dict_candidates.keys():\n",
    "    n_bound = int(9/l + 1)\n",
    "    for n in range(1,n_bound+1):\n",
    "        for integer in dict_candidates[l]:\n",
    "            concat = concatenated_product(integer, n)\n",
    "            if len(str(concat))==9:\n",
    "                if check_pandigital(concat):\n",
    "                    list_results.append(concat)"
   ]
  },
  {
   "cell_type": "code",
   "execution_count": 13,
   "metadata": {},
   "outputs": [
    {
     "data": {
      "text/plain": [
       "932718654"
      ]
     },
     "execution_count": 13,
     "metadata": {},
     "output_type": "execute_result"
    }
   ],
   "source": [
    "max(list_results)"
   ]
  },
  {
   "cell_type": "markdown",
   "metadata": {},
   "source": [
    "# Answer: 932,718,654"
   ]
  }
 ],
 "metadata": {
  "kernelspec": {
   "display_name": "Python 3",
   "language": "python",
   "name": "python3"
  },
  "language_info": {
   "codemirror_mode": {
    "name": "ipython",
    "version": 3
   },
   "file_extension": ".py",
   "mimetype": "text/x-python",
   "name": "python",
   "nbconvert_exporter": "python",
   "pygments_lexer": "ipython3",
   "version": "3.6.5"
  }
 },
 "nbformat": 4,
 "nbformat_minor": 2
}
