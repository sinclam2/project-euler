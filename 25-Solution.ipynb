{
 "cells": [
  {
   "cell_type": "markdown",
   "metadata": {},
   "source": [
    "# The Fibonacci sequence is defined by the recurrence relation:\n",
    "\n",
    "## $F_{n} = F_{n−1} + F_{n−2}$, where $F_{1} = 1$ and $F_{2} = 1$\n",
    "\n",
    "\n",
    "# Hence the first 12 terms will be:\n",
    "\n",
    "- F1 = 1\n",
    "- F2 = 1\n",
    "- F3 = 2\n",
    "- F4 = 3\n",
    "- F5 = 5\n",
    "- F6 = 8\n",
    "- F7 = 13\n",
    "- F8 = 21\n",
    "- F9 = 34\n",
    "- F10 = 55\n",
    "- F11 = 89\n",
    "- F12 = 144\n",
    "\n",
    "## The 12th term, $F_{12}$, is the first term to contain three digits.\n",
    "\n",
    "# What is the index of the first term in the Fibonacci sequence to contain 1000 digits?\n",
    "\n",
    "______"
   ]
  },
  {
   "cell_type": "code",
   "execution_count": 13,
   "metadata": {
    "collapsed": false
   },
   "outputs": [],
   "source": [
    "val_A = 1\n",
    "val_B = 1\n",
    "\n",
    "index = 2\n",
    "\n",
    "while len(str(val_A+val_B))<1000:\n",
    "    index += 1\n",
    "    val_A, val_B = val_B, val_A + val_B"
   ]
  },
  {
   "cell_type": "markdown",
   "metadata": {},
   "source": [
    "- This stops when the length is 1000, so the index isn't added\n",
    "    - This means we need to add 1 to the index val"
   ]
  },
  {
   "cell_type": "code",
   "execution_count": 15,
   "metadata": {
    "collapsed": false
   },
   "outputs": [
    {
     "data": {
      "text/plain": [
       "4782"
      ]
     },
     "execution_count": 15,
     "metadata": {},
     "output_type": "execute_result"
    }
   ],
   "source": [
    "index+1"
   ]
  },
  {
   "cell_type": "markdown",
   "metadata": {},
   "source": [
    "# Answer = 4782"
   ]
  }
 ],
 "metadata": {
  "kernelspec": {
   "display_name": "Python 2",
   "language": "python",
   "name": "python2"
  },
  "language_info": {
   "codemirror_mode": {
    "name": "ipython",
    "version": 2
   },
   "file_extension": ".py",
   "mimetype": "text/x-python",
   "name": "python",
   "nbconvert_exporter": "python",
   "pygments_lexer": "ipython2",
   "version": "2.7.11"
  }
 },
 "nbformat": 4,
 "nbformat_minor": 0
}
