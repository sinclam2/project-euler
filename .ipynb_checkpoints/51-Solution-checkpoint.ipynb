{
 "cells": [
  {
   "cell_type": "markdown",
   "metadata": {},
   "source": [
    "# By replacing the 1st digit of the 2-digit number $*3$, it turns out that six of the nine possible values: 13, 23, 43, 53, 73, and 83, are all prime."
   ]
  },
  {
   "cell_type": "markdown",
   "metadata": {},
   "source": [
    "# By replacing the 3rd and 4th digits of $56**3$ with the same digit, this 5-digit number is the first example having seven primes among the ten generated numbers, yielding the family: 56003, 56113, 56333, 56443, 56663, 56773, and 56993. Consequently 56003, being the first member of this family, is the smallest prime with this property."
   ]
  },
  {
   "cell_type": "markdown",
   "metadata": {},
   "source": [
    "# Find the smallest prime which, by replacing part of the number (not necessarily adjacent digits) with the same digit, is part of an eight prime value family."
   ]
  },
  {
   "cell_type": "markdown",
   "metadata": {},
   "source": [
    "_____\n",
    "\n",
    "- First, we define a function to check for primality"
   ]
  },
  {
   "cell_type": "code",
   "execution_count": 1,
   "metadata": {},
   "outputs": [],
   "source": [
    "def is_prime(n):\n",
    "    max_val = (n**0.5)//1 + 1\n",
    "    for i in range(2, max_val):\n",
    "        if n%i == 0:\n",
    "            return False\n",
    "    return True"
   ]
  },
  {
   "cell_type": "markdown",
   "metadata": {},
   "source": [
    "- Now we define a function for replacing digits"
   ]
  },
  {
   "cell_type": "code",
   "execution_count": 8,
   "metadata": {},
   "outputs": [],
   "source": [
    "def replacements(n, list_digits_to_replace):\n",
    "    # list_digits to replace specifies which indices in range(len(n)) will be replaced with a *\n",
    "    s = str(n)\n",
    "    for i in list_digits_to_replace:\n",
    "        s = s[:i]+'*'+s[i+1:]\n",
    "    list_replacements = [int(s.replace('*',str(i))) for i in range(1,10)]\n",
    "    return list_replacements"
   ]
  },
  {
   "cell_type": "code",
   "execution_count": 10,
   "metadata": {},
   "outputs": [],
   "source": [
    "from itertools import combinations"
   ]
  },
  {
   "cell_type": "code",
   "execution_count": null,
   "metadata": {},
   "outputs": [],
   "source": [
    "i = 10\n",
    "found = False\n",
    "\n",
    "while not found:\n",
    "    i += 1\n",
    "    if is_prime(n):\n",
    "        list_possible_replacements = range(1, len(str(i))+1)\n",
    "        string = ''.join([str(x) for x in range(len(str(i)))])\n",
    "        for m in list_possible_replacements:\n",
    "            list_combinations = [(int(a),int(b)) for (a,b) in combinations(string, m)]"
   ]
  }
 ],
 "metadata": {
  "kernelspec": {
   "display_name": "Python 3",
   "language": "python",
   "name": "python3"
  },
  "language_info": {
   "codemirror_mode": {
    "name": "ipython",
    "version": 3
   },
   "file_extension": ".py",
   "mimetype": "text/x-python",
   "name": "python",
   "nbconvert_exporter": "python",
   "pygments_lexer": "ipython3",
   "version": "3.6.4"
  }
 },
 "nbformat": 4,
 "nbformat_minor": 2
}
