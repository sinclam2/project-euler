{
 "cells": [
  {
   "cell_type": "markdown",
   "metadata": {},
   "source": [
    "# Starting with 1 and spiralling anticlockwise in the following way, a square spiral with side length 7 is formed.\n",
    "\n",
    "![](images/58.PNG)"
   ]
  },
  {
   "cell_type": "markdown",
   "metadata": {},
   "source": [
    "# It is interesting to note that the odd squares lie along the bottom right diagonal, but what is more interesting is that 8 out of the 13 numbers lying along both diagonals are prime; that is, a ratio of 8/13 ≈ 62%."
   ]
  },
  {
   "cell_type": "markdown",
   "metadata": {},
   "source": [
    "# If one complete new layer is wrapped around the spiral above, a square spiral with side length 9 will be formed. If this process is continued, what is the side length of the square spiral for which the ratio of primes along both diagonals first falls below 10%?"
   ]
  },
  {
   "cell_type": "markdown",
   "metadata": {},
   "source": [
    "_____"
   ]
  },
  {
   "cell_type": "code",
   "execution_count": 22,
   "metadata": {},
   "outputs": [],
   "source": [
    "import pandas as pd\n",
    "import numpy as np"
   ]
  },
  {
   "cell_type": "code",
   "execution_count": 114,
   "metadata": {},
   "outputs": [],
   "source": [
    "def outer_layer(df_spiral, list_values):\n",
    "    rows, columns = df_spiral.shape\n",
    "    step_size = columns - 1\n",
    "    \n",
    "    list_1 = list_values[:step_size]\n",
    "    list_2 = list_values[step_size:2*step_size]\n",
    "    list_3 = list_values[2*step_size:3*step_size]\n",
    "    list_4 = list_values[3*step_size:]\n",
    "    \n",
    "    i = -1\n",
    "    for val in list_1:\n",
    "        i+=1\n",
    "        df_spiral.iloc[-2-i,-1] = val\n",
    "        \n",
    "    \n",
    "    j = 0\n",
    "    for val in list_2:\n",
    "        j+=1\n",
    "        df_spiral.iloc[-2-i,-1-j] = val        \n",
    "        \n",
    "    \n",
    "    for val in list_3:\n",
    "        i-=1\n",
    "        df_spiral.iloc[-2-i,-1-j] = val\n",
    "        \n",
    "    for val in list_4:\n",
    "        j-=1\n",
    "        df_spiral.iloc[-2-i,-1-j] = val\n",
    "         \n",
    "    return df_spiral"
   ]
  },
  {
   "cell_type": "code",
   "execution_count": 157,
   "metadata": {},
   "outputs": [],
   "source": [
    "def build_spiral(n, df):\n",
    "    if n == 1:\n",
    "        return pd.DataFrame([1])\n",
    "    \n",
    "    if df == 0:\n",
    "        df = build_spiral(n-1,0)\n",
    "        \n",
    "    rows, cols = df.shape\n",
    "    zero_array = np.zeros(cols + 2)\n",
    "    df_new = pd.DataFrame(columns = range(cols+2))\n",
    "    df_new.loc[0] = zero_array\n",
    "    for row in df.index:\n",
    "        df_new.loc[row+1] = [0]+list(df.loc[row].values)+[0]\n",
    "    df_new.loc[row+2] = zero_array\n",
    "    \n",
    "    max_val = df.values.max()\n",
    "    n_new_elements = df_new.size - df.size\n",
    "    list_new_elements = list(range(max_val + 1, max_val + n_new_elements + 1))\n",
    "    \n",
    "    df_new = outer_layer(df_new, list_new_elements)\n",
    "    \n",
    "    return df_new.astype(int)"
   ]
  },
  {
   "cell_type": "code",
   "execution_count": 135,
   "metadata": {},
   "outputs": [],
   "source": [
    "def is_prime(n):\n",
    "    max_val = (n**0.5)//1+1\n",
    "    for i in range(2, int(max_val)):\n",
    "        if n%i==0:\n",
    "            return False\n",
    "    return True"
   ]
  },
  {
   "cell_type": "code",
   "execution_count": 150,
   "metadata": {},
   "outputs": [],
   "source": [
    "df_spiral = build_spiral(1, 0)"
   ]
  },
  {
   "cell_type": "code",
   "execution_count": null,
   "metadata": {},
   "outputs": [],
   "source": [
    "found = False\n",
    "\n",
    "n = 1\n",
    "df_spiral = build_spiral(n, 0)\n",
    "\n",
    "while not found:\n",
    "    n += 1\n",
    "    df_spiral = build_spiral(n, df_spiral)\n",
    "    list_diagonal_1 = list(np.diag(df_spiral))\n",
    "    \n",
    "    list_columns_reflected = list(df_spiral.columns)[::-1]\n",
    "    df_spiral_reflected = df_spiral[list_columns_reflected]\n",
    "    list_diagonal_2 = list(np.diag(df_spiral_reflected))\n",
    "    \n",
    "    list_diagonals = list(set(list_diagonal_1+list_diagonal_2))\n",
    "\n",
    "    \n",
    "    list_prime_diagonals = [x for x in list_diagonals if is_prime(x)]\n",
    "    \n",
    "    if len(list_prime_diagonals)/float(len(list_diagonals)) < 0.1:\n",
    "        print(n, df_spiral.shape)\n",
    "        found = True"
   ]
  },
  {
   "cell_type": "markdown",
   "metadata": {},
   "source": [
    "_____\n",
    "\n",
    "# Despite all this effort writing the code, it's too slow\n",
    "\n",
    "## Redoing it\n",
    "\n",
    "_____"
   ]
  },
  {
   "cell_type": "markdown",
   "metadata": {},
   "source": [
    "### We notice the diagonal from the centre to the bottom right goes [1,9,25,49,81,...] which is equal to $[1^{2},3^{2},5^{2},,7^{2},,9^{2},...]$"
   ]
  },
  {
   "cell_type": "markdown",
   "metadata": {},
   "source": [
    "### The diagonal from the centre to the bottom left is [1,7,21,43,73,...] which is equal to $[1^{2},3^{2},5^{2},,7^{2},,9^{2},...]$ - [0, 2, 4, 6, 8, ...]"
   ]
  },
  {
   "cell_type": "markdown",
   "metadata": {},
   "source": [
    "### The diagonal from the centre to the top left is [1,5,17,37,65,...] which is equal to $[1^{2},3^{2},5^{2},,7^{2},,9^{2},...]$ - [0, 4, 8, 12, ...]"
   ]
  },
  {
   "cell_type": "markdown",
   "metadata": {},
   "source": [
    "### The diagonal from the centre to the top right is [1,3,13,31,57,...] which is equal to $[1^{2},3^{2},5^{2},,7^{2},,9^{2},...]$ - [0, 6, 12, 18, ...]"
   ]
  },
  {
   "cell_type": "markdown",
   "metadata": {},
   "source": [
    "## So, for a spiral of $n$ layers, we can build the diagonals as:\n",
    "\n",
    "## `list_diagonal_1 = (1+2*np.arange(n))**2`\n",
    "\n",
    "## `list_diagonal_2 = list_diagonal_1 - 2*np.arange(n)`\n",
    "\n",
    "## `list_diagonal_3 = list_diagonal_1 - 3*np.arange(n)`\n",
    "\n",
    "## `list_diagonal_4 = list_diagonal_1 - 6*np.arange(n)`"
   ]
  },
  {
   "cell_type": "code",
   "execution_count": 198,
   "metadata": {},
   "outputs": [
    {
     "name": "stdout",
     "output_type": "stream",
     "text": [
      "26241\n"
     ]
    }
   ],
   "source": [
    "n = 0\n",
    "\n",
    "found = False\n",
    "\n",
    "list_diagonals = [1]\n",
    "list_primes = []\n",
    "\n",
    "while not found:\n",
    "    n+=1\n",
    "    new_val = (1+2*n)**2\n",
    "    list_diagonals.append(new_val)\n",
    "    if is_prime(new_val):\n",
    "        list_primes.append(new_val)\n",
    "    \n",
    "    new_val -= 2*n\n",
    "    list_diagonals.append(new_val)\n",
    "    if is_prime(new_val):\n",
    "        list_primes.append(new_val)\n",
    "    \n",
    "    new_val -= 2*n\n",
    "    list_diagonals.append(new_val)\n",
    "    if is_prime(new_val):\n",
    "        list_primes.append(new_val)\n",
    "    \n",
    "    new_val -= 2*n\n",
    "    list_diagonals.append(new_val)\n",
    "    if is_prime(new_val):\n",
    "        list_primes.append(new_val)\n",
    "\n",
    "    if len(list_primes)/float(len(list_diagonals))<0.1:\n",
    "        print(2*n+1)\n",
    "        found = True"
   ]
  },
  {
   "cell_type": "markdown",
   "metadata": {},
   "source": [
    "# Answer: 26241"
   ]
  }
 ],
 "metadata": {
  "kernelspec": {
   "display_name": "Python 3",
   "language": "python",
   "name": "python3"
  },
  "language_info": {
   "codemirror_mode": {
    "name": "ipython",
    "version": 3
   },
   "file_extension": ".py",
   "mimetype": "text/x-python",
   "name": "python",
   "nbconvert_exporter": "python",
   "pygments_lexer": "ipython3",
   "version": "3.6.5"
  }
 },
 "nbformat": 4,
 "nbformat_minor": 2
}
