{
 "cells": [
  {
   "cell_type": "markdown",
   "metadata": {},
   "source": [
    "# A unit fraction contains 1 in the numerator. The decimal representation of the unit fractions with denominators 2 to 10 are given:\n",
    "\n",
    "- 1/2\t= \t0.5\n",
    "- 1/3\t= \t0.(3)\n",
    "- 1/4\t= \t0.25\n",
    "- 1/5\t= \t0.2\n",
    "- 1/6\t= \t0.1(6)\n",
    "- 1/7\t= \t0.(142857)\n",
    "- 1/8\t= \t0.125\n",
    "- 1/9\t= \t0.(1)\n",
    "- 1/10\t= \t0.1\n",
    "\n",
    "# Where 0.1(6) means 0.166666..., and has a 1-digit recurring cycle. It can be seen that 1/7 has a 6-digit recurring cycle.\n",
    "\n",
    "# Find the value of d < 1000 for which 1/d contains the longest recurring cycle in its decimal fraction part.\n",
    "\n",
    "____"
   ]
  },
  {
   "cell_type": "markdown",
   "metadata": {},
   "source": [
    "### Note: copied the idea from: https://www.mathblog.dk/project-euler-26-find-the-value-of-d-1000-for-which-1d-contains-the-longest-recurring-cycle/"
   ]
  },
  {
   "cell_type": "markdown",
   "metadata": {},
   "source": [
    "# We remember the algorithm for division from elementary school as described below:\n",
    "\n",
    "# Problem: calculate $\\frac{1}{7}$\n",
    "\n",
    "## $\\frac{1}{7} = (0)(1) + (0.1)(\\frac{10}{7})$\n",
    "\n",
    "## $ = (0)(1) + (0.1)(1) + (0.01)(\\frac{30}{7}) = (0)(1) + (0.1)(1) + (0.01)(4) + ... = 1.4286$"
   ]
  },
  {
   "cell_type": "markdown",
   "metadata": {},
   "source": [
    "## More generally, the steps are:\n",
    "\n",
    "### 1. Divide the numberator by the denominator, and keep the remainder\n",
    "\n",
    "### 2. Multiply the remainder by 10 and divide by the denominator, keeping the new remainder\n",
    "\n",
    "### 3. Multiply the quotient from part 2 by 0.1 and add to the total\n",
    "\n",
    "### 4. Multiply the remainder from part 2 by 10 and divide ...\n"
   ]
  },
  {
   "cell_type": "markdown",
   "metadata": {},
   "source": [
    "# From this, we can see that if we get a remainder twice it, there is a repeated decimal in the fraction and all decimals will be repeating in the same order thereafter"
   ]
  },
  {
   "cell_type": "markdown",
   "metadata": {},
   "source": [
    "### This means we'll write our function to loop through the remainders and once one repeats we'll stop the counter"
   ]
  },
  {
   "cell_type": "code",
   "execution_count": 24,
   "metadata": {},
   "outputs": [],
   "source": [
    "def count_cycle(d):\n",
    "    list_remainders = []\n",
    "    count = 0\n",
    "    \n",
    "    remainder = 1 % d\n",
    "    \n",
    "    while (remainder not in list_remainders)&(remainder!=0):\n",
    "        count += 1\n",
    "        list_remainders.append(remainder)\n",
    "        remainder = remainder*10 % d\n",
    "    return count"
   ]
  },
  {
   "cell_type": "code",
   "execution_count": 26,
   "metadata": {},
   "outputs": [],
   "source": [
    "max_val = 0\n",
    "max_count = 0\n",
    "\n",
    "for d in range(1,1000):\n",
    "    count = count_cycle(d)\n",
    "    if count > max_count:\n",
    "        max_count = count\n",
    "        max_val = d"
   ]
  },
  {
   "cell_type": "code",
   "execution_count": 34,
   "metadata": {},
   "outputs": [
    {
     "data": {
      "text/plain": [
       "(982, 983)"
      ]
     },
     "execution_count": 34,
     "metadata": {},
     "output_type": "execute_result"
    }
   ],
   "source": [
    "max_count, max_val"
   ]
  },
  {
   "cell_type": "markdown",
   "metadata": {},
   "source": [
    "# Answer: when $d=983$, the length of the recurring cycle is 982"
   ]
  }
 ],
 "metadata": {
  "kernelspec": {
   "display_name": "Python 3",
   "language": "python",
   "name": "python3"
  },
  "language_info": {
   "codemirror_mode": {
    "name": "ipython",
    "version": 3
   },
   "file_extension": ".py",
   "mimetype": "text/x-python",
   "name": "python",
   "nbconvert_exporter": "python",
   "pygments_lexer": "ipython3",
   "version": "3.6.4"
  }
 },
 "nbformat": 4,
 "nbformat_minor": 1
}
