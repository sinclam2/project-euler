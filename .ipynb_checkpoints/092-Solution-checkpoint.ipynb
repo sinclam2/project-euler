{
 "cells": [
  {
   "cell_type": "markdown",
   "metadata": {},
   "source": [
    "# A number chain is created by continuously adding the square of the digits in a number to form a new number until it has been seen before.\n",
    "\n",
    "# For example,\n",
    "\n",
    "- 44 → 32 → 13 → 10 → **1** → **1**\n",
    "- 85 → **89** → 145 → 42 → 20 → 4 → 16 → 37 → 58 → **89**"
   ]
  },
  {
   "cell_type": "markdown",
   "metadata": {},
   "source": [
    "# Therefore any chain that arrives at 1 or 89 will become stuck in an endless loop. What is most amazing is that EVERY starting number will eventually arrive at 1 or 89."
   ]
  },
  {
   "cell_type": "markdown",
   "metadata": {},
   "source": [
    "# How many starting numbers below ten million will arrive at 89?"
   ]
  },
  {
   "cell_type": "markdown",
   "metadata": {},
   "source": [
    "________"
   ]
  },
  {
   "cell_type": "markdown",
   "metadata": {},
   "source": [
    "# Since this problem isn't too tricky, will just write some kinda slow code"
   ]
  },
  {
   "cell_type": "code",
   "execution_count": 1,
   "metadata": {},
   "outputs": [],
   "source": [
    "def sum_digits(n):\n",
    "    r = 0\n",
    "    while n:\n",
    "        r, n = r + (n % 10)**2, n // 10\n",
    "    return r"
   ]
  },
  {
   "cell_type": "code",
   "execution_count": 2,
   "metadata": {},
   "outputs": [],
   "source": [
    "dict_check = {}\n",
    "\n",
    "for i in range(1, 10000001):\n",
    "    n = i\n",
    "    found = False\n",
    "    while not found:\n",
    "        n = sum_digits(n)\n",
    "        if n in dict_check.keys():\n",
    "            dict_check[i] = dict_check[n]\n",
    "            found = True\n",
    "        if (n==1) or (n==89):\n",
    "            dict_check[i] = n\n",
    "            found = True"
   ]
  },
  {
   "cell_type": "code",
   "execution_count": 3,
   "metadata": {},
   "outputs": [
    {
     "data": {
      "text/plain": [
       "8581146"
      ]
     },
     "execution_count": 3,
     "metadata": {},
     "output_type": "execute_result"
    }
   ],
   "source": [
    "len([key for key,val in dict_check.items() if val==89])"
   ]
  },
  {
   "cell_type": "markdown",
   "metadata": {},
   "source": [
    "# Answer: 8,581,146"
   ]
  }
 ],
 "metadata": {
  "kernelspec": {
   "display_name": "Python 3",
   "language": "python",
   "name": "python3"
  },
  "language_info": {
   "codemirror_mode": {
    "name": "ipython",
    "version": 3
   },
   "file_extension": ".py",
   "mimetype": "text/x-python",
   "name": "python",
   "nbconvert_exporter": "python",
   "pygments_lexer": "ipython3",
   "version": "3.6.5"
  }
 },
 "nbformat": 4,
 "nbformat_minor": 2
}
