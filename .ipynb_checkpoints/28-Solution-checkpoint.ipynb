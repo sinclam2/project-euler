{
 "cells": [
  {
   "cell_type": "markdown",
   "metadata": {},
   "source": [
    "# Starting with the number 1 and moving to the right in a clockwise direction a 5 by 5 spiral is formed as follows:\n",
    "\n",
    "![](images/28.PNG)"
   ]
  },
  {
   "cell_type": "markdown",
   "metadata": {},
   "source": [
    "# It can be verified that the sum of the numbers on the diagonals is 101."
   ]
  },
  {
   "cell_type": "markdown",
   "metadata": {},
   "source": [
    "# What is the sum of the numbers on the diagonals in a 1001 by 1001 spiral formed in the same way?"
   ]
  },
  {
   "cell_type": "markdown",
   "metadata": {},
   "source": [
    "____\n",
    "\n",
    "\n",
    "# Instead of figuring out how to make a spiral, we notice something about the sums\n",
    "\n",
    "# The first square is of dimension 1x1 and we add the value 1\n",
    "\n",
    "# The second square is of dimension 3x3, and we add the values 3, 5, 7, 9\n",
    "\n",
    "# The third square is of dimension 4x4, and we add the values 13, 17, 21, 25"
   ]
  },
  {
   "cell_type": "markdown",
   "metadata": {},
   "source": [
    "### So, for the first square, we take the only value\n",
    "\n",
    "### Then, we take every other value 4 times\n",
    "\n",
    "### Then, we take every 4th value 4 times\n",
    "\n",
    "### After that, we take every 6th value 4 times"
   ]
  },
  {
   "cell_type": "markdown",
   "metadata": {},
   "source": [
    "## A spiral of length 1001x1001 has a maximum value of $1001^{2}$\n",
    "\n",
    "## This spiral will be made up of $\\frac{1001-1}{2}+1 = 501$ nested squares\n",
    "\n",
    "### Using the steps we discovered, we can loop through the range from 1 to $1001^{2}$"
   ]
  },
  {
   "cell_type": "markdown",
   "metadata": {},
   "source": [
    "- First, we divide the list into each square's components"
   ]
  },
  {
   "cell_type": "code",
   "execution_count": 28,
   "metadata": {},
   "outputs": [],
   "source": [
    "list_spiral = list(range(1,1001**2+1))\n",
    "\n",
    "dict_square_elements = {}\n",
    "\n",
    "for square in range(501):\n",
    "    square_sidelength = 2*square+1\n",
    "    previous_square_sidelength = max(2*(square-1)+1,0)\n",
    "    n_elements = square_sidelength**2 - previous_square_sidelength**2\n",
    "    list_temp, list_spiral = list_spiral[:n_elements], list_spiral[n_elements:]\n",
    "    dict_square_elements[square] = list_temp"
   ]
  },
  {
   "cell_type": "markdown",
   "metadata": {},
   "source": [
    "- Now, we take the sums by skipping values"
   ]
  },
  {
   "cell_type": "code",
   "execution_count": 31,
   "metadata": {},
   "outputs": [],
   "source": [
    "total = 0\n",
    "\n",
    "for square in range(501):\n",
    "    list_temp = dict_square_elements[square]\n",
    "    step_size = 2*square\n",
    "    if step_size > 0:\n",
    "        list_temp = list_temp[step_size-1::step_size]\n",
    "    \n",
    "    sum_val = sum(list_temp)\n",
    "    \n",
    "    total += sum_val"
   ]
  },
  {
   "cell_type": "code",
   "execution_count": 32,
   "metadata": {},
   "outputs": [
    {
     "data": {
      "text/plain": [
       "669171001"
      ]
     },
     "execution_count": 32,
     "metadata": {},
     "output_type": "execute_result"
    }
   ],
   "source": [
    "total"
   ]
  },
  {
   "cell_type": "markdown",
   "metadata": {},
   "source": [
    "# Answer: 669,171,001"
   ]
  }
 ],
 "metadata": {
  "kernelspec": {
   "display_name": "Python 3",
   "language": "python",
   "name": "python3"
  },
  "language_info": {
   "codemirror_mode": {
    "name": "ipython",
    "version": 3
   },
   "file_extension": ".py",
   "mimetype": "text/x-python",
   "name": "python",
   "nbconvert_exporter": "python",
   "pygments_lexer": "ipython3",
   "version": "3.6.5"
  }
 },
 "nbformat": 4,
 "nbformat_minor": 2
}
