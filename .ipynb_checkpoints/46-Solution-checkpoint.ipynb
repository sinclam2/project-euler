{
 "cells": [
  {
   "cell_type": "markdown",
   "metadata": {},
   "source": [
    "# It was proposed by Christian Goldbach that every odd composite number can be written as the sum of a prime and twice a square."
   ]
  },
  {
   "cell_type": "markdown",
   "metadata": {},
   "source": [
    "- 9 = 7 + 2×1^{2}\n",
    "- 15 = 7 + 2×2^{2}\n",
    "- 21 = 3 + 2×3^{2}\n",
    "- 25 = 7 + 2×3^{2}\n",
    "- 27 = 19 + 2×2^{2}\n",
    "- 33 = 31 + 2×1^{2}"
   ]
  },
  {
   "cell_type": "markdown",
   "metadata": {},
   "source": [
    "____\n",
    "\n",
    "### Creating a list of the first 100 primes"
   ]
  },
  {
   "cell_type": "code",
   "execution_count": 1,
   "metadata": {},
   "outputs": [],
   "source": [
    "def prime_generator(n):\n",
    "    list_primes = [2,3]\n",
    "    i = 3\n",
    "    while len(list_primes)<n:\n",
    "        i+=1\n",
    "        if len([p for p in list_primes if i % p == 0])==0:\n",
    "            list_primes.append(i)\n",
    "    return list_primes"
   ]
  },
  {
   "cell_type": "code",
   "execution_count": 20,
   "metadata": {},
   "outputs": [],
   "source": [
    "list_primes_1000 = prime_generator(1000)"
   ]
  },
  {
   "cell_type": "code",
   "execution_count": 33,
   "metadata": {},
   "outputs": [],
   "source": [
    "def checker(odd_composite):\n",
    "    for prime in [x for x in list_primes_1000 if x < odd_composite]:\n",
    "        temp = odd_composite - prime\n",
    "        if temp%2==0:\n",
    "            temp2 = temp / 2\n",
    "            if temp2**0.5 % 1 == 0:\n",
    "                return True\n",
    "    return False"
   ]
  },
  {
   "cell_type": "code",
   "execution_count": 35,
   "metadata": {},
   "outputs": [
    {
     "name": "stdout",
     "output_type": "stream",
     "text": [
      "5777\n"
     ]
    }
   ],
   "source": [
    "found = False\n",
    "\n",
    "k = 0\n",
    "\n",
    "while not found:\n",
    "    k += 1\n",
    "    odd_composite = 2*k+1\n",
    "    if odd_composite not in list_primes_1000:\n",
    "        if not checker(odd_composite):\n",
    "            print(odd_composite)\n",
    "            found = True"
   ]
  },
  {
   "cell_type": "markdown",
   "metadata": {},
   "source": [
    "# Answer: 5,777"
   ]
  }
 ],
 "metadata": {
  "kernelspec": {
   "display_name": "Python 3",
   "language": "python",
   "name": "python3"
  },
  "language_info": {
   "codemirror_mode": {
    "name": "ipython",
    "version": 3
   },
   "file_extension": ".py",
   "mimetype": "text/x-python",
   "name": "python",
   "nbconvert_exporter": "python",
   "pygments_lexer": "ipython3",
   "version": "3.6.4"
  }
 },
 "nbformat": 4,
 "nbformat_minor": 2
}
